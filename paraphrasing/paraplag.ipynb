{
 "cells": [
  {
   "cell_type": "code",
   "execution_count": null,
   "id": "earlier-judges",
   "metadata": {},
   "outputs": [],
   "source": [
    "# !ls text_alignment/susp/"
   ]
  },
  {
   "cell_type": "code",
   "execution_count": null,
   "id": "binary-craft",
   "metadata": {},
   "outputs": [],
   "source": [
    "import xml.etree.ElementTree as ET\n",
    "import os"
   ]
  },
  {
   "cell_type": "code",
   "execution_count": null,
   "id": "seasonal-cattle",
   "metadata": {},
   "outputs": [],
   "source": [
    "import torch\n",
    "from transformers import AutoTokenizer, AutoModelForSequenceClassification\n",
    "import pandas as pd\n",
    "\n",
    "\n",
    "model_checkpoint = 'cointegrated/rubert-base-cased-nli-twoway'\n",
    "tokenizer = AutoTokenizer.from_pretrained(model_checkpoint)\n",
    "model = AutoModelForSequenceClassification.from_pretrained(model_checkpoint)\n",
    "if torch.cuda.is_available():\n",
    "    model.cuda()\n",
    "\n",
    "def predict_pair(text1, text2):\n",
    "    with torch.inference_mode():\n",
    "        out = model(**tokenizer(text1, text2, return_tensors='pt').to(model.device))\n",
    "        proba = torch.softmax(out.logits, -1).cpu().numpy()[0]\n",
    "        return {v: proba[k] for k, v in model.config.id2label.items()}['entailment']"
   ]
  },
  {
   "cell_type": "code",
   "execution_count": null,
   "id": "aggregate-beaver",
   "metadata": {
    "scrolled": true
   },
   "outputs": [],
   "source": [
    "!ls"
   ]
  },
  {
   "cell_type": "code",
   "execution_count": null,
   "id": "extensive-progressive",
   "metadata": {
    "scrolled": true
   },
   "outputs": [],
   "source": [
    "data = []\n",
    "for p in 'manually-paraphrased', 'manually_paraphrased2':\n",
    "    for f in os.listdir(f'data/raw/paraplag/tasks/{p}/'):\n",
    "        if not f.endswith('.xml'):\n",
    "            continue\n",
    "        task_path = f'data/raw/paraplag/tasks/{p}/{f}'\n",
    "        task = ET.parse(task_path).getroot()\n",
    "\n",
    "        susp_name = task.attrib['reference']\n",
    "        susp_path = f'data/raw/paraplag/susp/{susp_name}'\n",
    "        susp = open(susp_path).read()\n",
    "\n",
    "        for elem in list(task):\n",
    "\n",
    "            source_attribs = elem.attrib\n",
    "            source_path = f\"data/raw/paraplag/src/{source_attribs['source_reference']}\"\n",
    "            source = open(source_path).read()\n",
    "\n",
    "            so, sl = int(source_attribs['source_offset']), int(source_attribs['source_length'])\n",
    "            to, tl = int(source_attribs['this_offset']), int(source_attribs['this_length'])\n",
    "            text_source = source[so:so+sl]\n",
    "            text_susp = susp[to:to+tl]\n",
    "            obfuscation = source_attribs['obfuscation']\n",
    "            id = susp_name.split('.')[0]\n",
    "            data.append([id, obfuscation, text_susp, text_source])"
   ]
  },
  {
   "cell_type": "code",
   "execution_count": null,
   "id": "instrumental-attention",
   "metadata": {},
   "outputs": [],
   "source": [
    "len(data)"
   ]
  },
  {
   "cell_type": "code",
   "execution_count": null,
   "id": "given-archive",
   "metadata": {},
   "outputs": [],
   "source": [
    "import pandas as pd\n",
    "\n",
    "df = pd.DataFrame(data, columns=['cluster_id', 'obfuscation', 'susp', 'src'])"
   ]
  },
  {
   "cell_type": "code",
   "execution_count": null,
   "id": "promotional-grenada",
   "metadata": {},
   "outputs": [],
   "source": [
    "df[df['src'] == 'Чингис так ловко управлял завоеванной частью Китая, что она не восставала во время его отсутствия.']"
   ]
  },
  {
   "cell_type": "code",
   "execution_count": null,
   "id": "numeric-start",
   "metadata": {},
   "outputs": [],
   "source": [
    "df.obfuscation = df.obfuscation.apply(lambda x: ','.join(sorted(set(x.split(',')))))"
   ]
  },
  {
   "cell_type": "code",
   "execution_count": null,
   "id": "anticipated-terminal",
   "metadata": {},
   "outputs": [],
   "source": [
    "df.obfuscation.value_counts().head(20)"
   ]
  },
  {
   "cell_type": "code",
   "execution_count": null,
   "id": "occasional-millennium",
   "metadata": {},
   "outputs": [],
   "source": [
    "def unique(it):\n",
    "    seen = set()\n",
    "    for elem in it:\n",
    "        if elem in seen:\n",
    "            continue\n",
    "        seen.add(elem)\n",
    "        yield elem"
   ]
  },
  {
   "cell_type": "code",
   "execution_count": null,
   "id": "cordless-anchor",
   "metadata": {},
   "outputs": [],
   "source": [
    "a = df.groupby('susp').agg({'src': list, 'obfuscation':lambda x: set(x).pop(), 'cluster_id': lambda x: set(x).pop()}).reset_index()\n",
    "a = a[a.src.apply(len) > 1]\n",
    "a = a[a.obfuscation.str.contains('|'.join(['CCT', 'SSP', 'SEP', 'LPR', 'HPR']))]\n",
    "a.columns = ['text1', 'text2', 'obfuscation', 'cluster_id']\n",
    "a.text2 = a.text2.apply(lambda x: ' '.join(unique(x)))"
   ]
  },
  {
   "cell_type": "code",
   "execution_count": null,
   "id": "understood-background",
   "metadata": {},
   "outputs": [],
   "source": [
    "b = df.groupby('src').agg({'susp': list, 'obfuscation':lambda x: set(x).pop(), 'cluster_id': lambda x: set(x).pop()}).reset_index()\n",
    "b = b[b.susp.apply(len) > 1]\n",
    "b = b[b.obfuscation.str.contains('|'.join(['CCT', 'SSP', 'SEP', 'LPR', 'HPR']))]\n",
    "b.columns = ['text2', 'text1', 'obfuscation', 'cluster_id']\n",
    "b.text1 = b.text1.apply(lambda x: ' '.join(unique(x)))"
   ]
  },
  {
   "cell_type": "code",
   "execution_count": null,
   "id": "sporting-tissue",
   "metadata": {},
   "outputs": [],
   "source": [
    "df_splt = pd.concat([a,b])"
   ]
  },
  {
   "cell_type": "code",
   "execution_count": null,
   "id": "seeing-plaintiff",
   "metadata": {},
   "outputs": [],
   "source": [
    "from razdel import tokenize\n",
    "\n",
    "def find_same(row):\n",
    "    toks1 = [_.text.lower() for _ in tokenize(row['text1'])]\n",
    "    toks2 = [_.text.lower() for _ in tokenize(row['text2'])]\n",
    "    \n",
    "    toks1 = [t for t in toks1 if t.isalpha()]\n",
    "    toks2 = [t for t in toks2 if t.isalpha()]\n",
    "\n",
    "    return toks1 == toks2\n",
    "    \n",
    "# df_splt = df_splt[~df_splt.apply(find_same, axis=1)]"
   ]
  },
  {
   "cell_type": "code",
   "execution_count": null,
   "id": "potential-accordance",
   "metadata": {},
   "outputs": [],
   "source": [
    "df_splt['ent1'] = df_splt.apply(lambda x: predict_pair(x['text1'], x['text2']), axis=1)\n",
    "df_splt['ent2'] = df_splt.apply(lambda x: predict_pair(x['text2'], x['text1']), axis=1)"
   ]
  },
  {
   "cell_type": "code",
   "execution_count": null,
   "id": "military-viewer",
   "metadata": {
    "scrolled": true
   },
   "outputs": [],
   "source": [
    "ex = tmp.sample(1).iloc[0]\n",
    "\n",
    "text1 = ex['text1']\n",
    "text2 = ex['text2']\n",
    "\n",
    "print(text1)\n",
    "print(ex['obfuscation'])\n",
    "print(text2)\n",
    "print(ex['ent1'])\n",
    "print(ex['ent2'])\n",
    "# print(predict_pair(text1, text2))\n",
    "# print(predict_pair(text2, text1))"
   ]
  },
  {
   "cell_type": "code",
   "execution_count": null,
   "id": "olive-morris",
   "metadata": {},
   "outputs": [],
   "source": [
    "ent_data = []\n",
    "\n",
    "import tqdm\n",
    "\n",
    "for i, row in tqdm.tqdm(df.iterrows(), total=len(df)):\n",
    "    ent1 = predict_pair(row['susp'], row['src'])\n",
    "    ent2 = predict_pair(row['src'], row['susp'])\n",
    "    ent_data.append((i, ent1, ent2))"
   ]
  },
  {
   "cell_type": "code",
   "execution_count": null,
   "id": "athletic-exhibit",
   "metadata": {},
   "outputs": [],
   "source": [
    "df['ent1'] = [e[1] for e in ent_data]\n",
    "df['ent2'] = [e[2] for e in ent_data]"
   ]
  },
  {
   "cell_type": "code",
   "execution_count": null,
   "id": "quality-jordan",
   "metadata": {},
   "outputs": [],
   "source": [
    "df.columns"
   ]
  },
  {
   "cell_type": "code",
   "execution_count": null,
   "id": "plain-quilt",
   "metadata": {},
   "outputs": [],
   "source": [
    "df.columns = ['cluster_id', 'obfuscation', 'text1', 'text2', 'ent1', 'ent2']"
   ]
  },
  {
   "cell_type": "code",
   "execution_count": null,
   "id": "norman-disease",
   "metadata": {},
   "outputs": [],
   "source": [
    "para_ent_df = pd.concat([df, df_splt])"
   ]
  },
  {
   "cell_type": "code",
   "execution_count": null,
   "id": "decent-vehicle",
   "metadata": {},
   "outputs": [],
   "source": [
    "# para_ent_df.to_csv('data/paraplag_entailment.tsv', sep='\\t', index=False)"
   ]
  },
  {
   "cell_type": "code",
   "execution_count": 1,
   "id": "analyzed-acting",
   "metadata": {},
   "outputs": [],
   "source": [
    "import pandas as pd\n",
    "\n",
    "para = pd.read_csv('data/paraplag_entailment.tsv', sep='\\t')"
   ]
  },
  {
   "cell_type": "code",
   "execution_count": 3,
   "id": "revised-blond",
   "metadata": {},
   "outputs": [],
   "source": [
    "para = para[(para['ent1'] > 0.6) & (para['ent2'] > 0.6)]"
   ]
  },
  {
   "cell_type": "code",
   "execution_count": 4,
   "id": "opponent-faith",
   "metadata": {},
   "outputs": [
    {
     "ename": "NameError",
     "evalue": "name 'find_same' is not defined",
     "output_type": "error",
     "traceback": [
      "\u001b[0;31m---------------------------------------------------------------------------\u001b[0m",
      "\u001b[0;31mNameError\u001b[0m                                 Traceback (most recent call last)",
      "\u001b[0;32m<ipython-input-4-792bc1737d59>\u001b[0m in \u001b[0;36m<module>\u001b[0;34m\u001b[0m\n\u001b[0;32m----> 1\u001b[0;31m \u001b[0mpara\u001b[0m \u001b[0;34m=\u001b[0m \u001b[0mpara\u001b[0m\u001b[0;34m[\u001b[0m\u001b[0;34m~\u001b[0m\u001b[0mpara\u001b[0m\u001b[0;34m.\u001b[0m\u001b[0mapply\u001b[0m\u001b[0;34m(\u001b[0m\u001b[0mfind_same\u001b[0m\u001b[0;34m,\u001b[0m \u001b[0maxis\u001b[0m\u001b[0;34m=\u001b[0m\u001b[0;36m1\u001b[0m\u001b[0;34m)\u001b[0m\u001b[0;34m]\u001b[0m\u001b[0;34m\u001b[0m\u001b[0;34m\u001b[0m\u001b[0m\n\u001b[0m",
      "\u001b[0;31mNameError\u001b[0m: name 'find_same' is not defined"
     ]
    }
   ],
   "source": [
    "# para = para[~para.apply(find_same, axis=1)]"
   ]
  },
  {
   "cell_type": "code",
   "execution_count": null,
   "id": "assigned-layer",
   "metadata": {},
   "outputs": [],
   "source": [
    "df"
   ]
  },
  {
   "cell_type": "code",
   "execution_count": null,
   "id": "accomplished-seminar",
   "metadata": {
    "scrolled": false
   },
   "outputs": [],
   "source": [
    "df[df.text2 == 'Все больше и больше людей в наше время хочет научиться программировать.']"
   ]
  },
  {
   "cell_type": "code",
   "execution_count": null,
   "id": "positive-isaac",
   "metadata": {},
   "outputs": [],
   "source": [
    "ex = para.sample(1).iloc[0]\n",
    "\n",
    "text1 = ex['text1']\n",
    "text2 = ex['text2']\n",
    "\n",
    "print(text1)\n",
    "print(ex['obfuscation'])\n",
    "print(text2)\n",
    "print(ex['ent1'])\n",
    "print(ex['ent2'])\n",
    "# print(predict_pair(text1, text2))\n",
    "# print(predict_pair(text2, text1))"
   ]
  },
  {
   "cell_type": "code",
   "execution_count": null,
   "id": "european-fancy",
   "metadata": {},
   "outputs": [],
   "source": []
  },
  {
   "cell_type": "code",
   "execution_count": null,
   "id": "confidential-space",
   "metadata": {},
   "outputs": [],
   "source": [
    "para.drop_duplicates('text2')"
   ]
  },
  {
   "cell_type": "code",
   "execution_count": null,
   "id": "matched-elimination",
   "metadata": {},
   "outputs": [],
   "source": [
    "text2, text1 = b['susp'], ' '.join(b['src'])\n",
    "print(predict_pair(text1, text2))\n",
    "print(text1)\n",
    "print(set(b['obfuscation']))\n",
    "print(text2)"
   ]
  },
  {
   "cell_type": "code",
   "execution_count": null,
   "id": "whole-turtle",
   "metadata": {},
   "outputs": [],
   "source": [
    "a = df[df.obfuscation.apply(lambda x: len(x.split(','))) > 1].sample(1).iloc[0]\n",
    "print(a['susp'])\n",
    "print(a['src'])\n",
    "print(a['obfuscation'])"
   ]
  },
  {
   "cell_type": "code",
   "execution_count": 7,
   "id": "dedicated-tampa",
   "metadata": {},
   "outputs": [],
   "source": [
    "def same(s1, s2):\n",
    "    toks1, toks2 = tokenize(s1), tokenize(s2)\n",
    "    s1 = ' '.join([_.text.lower() for _ in toks1 if _.text.isalpha()])\n",
    "    s2 = ' '.join([_.text.lower() for _ in toks2 if _.text.isalpha()])\n",
    "    if s1 in s2 or s2 in s1:\n",
    "        return True\n",
    "#     ls1 = [element for element in toks1 if element in toks2]\n",
    "#     if ls1 == toks1:\n",
    "#         return True\n",
    "#     ls2 = [element for element in toks2 if element in toks1]\n",
    "#     if ls2 == toks2:\n",
    "#         return True\n",
    "#     if toks1 == toks2:\n",
    "#         return True\n",
    "    return False"
   ]
  },
  {
   "cell_type": "code",
   "execution_count": 8,
   "id": "manual-assessment",
   "metadata": {},
   "outputs": [],
   "source": [
    "from razdel import tokenize"
   ]
  },
  {
   "cell_type": "code",
   "execution_count": 9,
   "id": "democratic-cabin",
   "metadata": {},
   "outputs": [],
   "source": [
    "p = para[~para.apply(lambda x: same(x['text1'], x['text2']), axis=1)]"
   ]
  },
  {
   "cell_type": "code",
   "execution_count": 22,
   "id": "military-helping",
   "metadata": {},
   "outputs": [
    {
     "name": "stdout",
     "output_type": "stream",
     "text": [
      "Под влиянием т Этот тип травмы возникает при контакте человека с источником электроэнергии непосредственном или косвенном .\n",
      "**********\n",
      "ЭЛЕКТРОТРАВМА возникает при непосредственном или косвенном контакте человека с источником электроэнергии.\n"
     ]
    }
   ],
   "source": [
    "k = p[p.obfuscation == 'SSP'].sample(1).iloc[0]\n",
    "print(k['text1'])\n",
    "print('*'*10)\n",
    "print(k['text2'])"
   ]
  },
  {
   "cell_type": "code",
   "execution_count": 23,
   "id": "functioning-nylon",
   "metadata": {},
   "outputs": [
    {
     "data": {
      "text/plain": [
       "3044"
      ]
     },
     "execution_count": 23,
     "metadata": {},
     "output_type": "execute_result"
    }
   ],
   "source": [
    "len(p)"
   ]
  },
  {
   "cell_type": "code",
   "execution_count": 24,
   "id": "continued-draft",
   "metadata": {},
   "outputs": [],
   "source": [
    "from natasha import (\n",
    "    Segmenter,\n",
    "    MorphVocab,\n",
    "    \n",
    "    NewsEmbedding,\n",
    "    NewsMorphTagger,\n",
    "    NewsSyntaxParser,\n",
    "    NewsNERTagger,\n",
    "    \n",
    "    PER,\n",
    "    NamesExtractor,\n",
    "\n",
    "    Doc\n",
    ")\n",
    "from collections import Counter\n",
    "\n",
    "segmenter = Segmenter()\n",
    "morph_vocab = MorphVocab()\n",
    "\n",
    "emb = NewsEmbedding()\n",
    "ner_tagger = NewsNERTagger(emb)\n",
    "\n",
    "names_extractor = NamesExtractor(morph_vocab)\n",
    "\n",
    "def match_ents(s1, s2):\n",
    "    doc1, doc2 = Doc(s1), Doc(s2)\n",
    "    \n",
    "    doc1.segment(segmenter)\n",
    "    doc2.segment(segmenter)\n",
    "    \n",
    "    doc1.tag_ner(ner_tagger)\n",
    "    doc2.tag_ner(ner_tagger)\n",
    "    \n",
    "    if Counter([s.type for s in doc1.spans]) != Counter([s.type for s in doc2.spans]):\n",
    "        return False\n",
    "    \n",
    "    numbers1 = set()\n",
    "    numbers2 = set()\n",
    "    \n",
    "    for tok in doc1.tokens:\n",
    "        if has_numbers(tok.text):\n",
    "            numbers1.add(tok.text)\n",
    "    \n",
    "    for tok in doc2.tokens:\n",
    "        if has_numbers(tok.text):\n",
    "            numbers2.add(tok.text)\n",
    "    \n",
    "    if numbers1 != numbers2:\n",
    "        return False\n",
    "    \n",
    "    return True\n",
    "    \n",
    "\n",
    "def has_numbers(inputString):\n",
    "    return any(char.isdigit() for char in inputString)\n",
    "\n",
    "def match_abbr(s1, s2):\n",
    "    abbrs1 = set()\n",
    "    abbrs2 = set()\n",
    "    \n",
    "    for tok in tokenize(s1):\n",
    "        if tok.text.isupper() and len(tok.text) > 1:\n",
    "            abbrs1.add(tok.text)\n",
    "    for tok in tokenize(s2):\n",
    "        if tok.text.isupper() and len(tok.text) > 1:\n",
    "            abbrs2.add(tok.text)\n",
    "    \n",
    "#     print(abbrs1, abbrs2)\n",
    "    if abbrs1 == abbrs2:\n",
    "        return True\n",
    "    return False"
   ]
  },
  {
   "cell_type": "code",
   "execution_count": 25,
   "id": "coated-teens",
   "metadata": {},
   "outputs": [],
   "source": [
    "p = p[p.apply(lambda x: match_ents(x['text1'], x['text2']), axis=1)]"
   ]
  },
  {
   "cell_type": "code",
   "execution_count": 26,
   "id": "advisory-syndrome",
   "metadata": {},
   "outputs": [],
   "source": [
    "p = p[p.apply(lambda x: match_abbr(x['text1'], x['text2']), axis=1)]"
   ]
  },
  {
   "cell_type": "code",
   "execution_count": 28,
   "id": "offshore-bleeding",
   "metadata": {},
   "outputs": [
    {
     "data": {
      "text/html": [
       "<div>\n",
       "<style scoped>\n",
       "    .dataframe tbody tr th:only-of-type {\n",
       "        vertical-align: middle;\n",
       "    }\n",
       "\n",
       "    .dataframe tbody tr th {\n",
       "        vertical-align: top;\n",
       "    }\n",
       "\n",
       "    .dataframe thead th {\n",
       "        text-align: right;\n",
       "    }\n",
       "</style>\n",
       "<table border=\"1\" class=\"dataframe\">\n",
       "  <thead>\n",
       "    <tr style=\"text-align: right;\">\n",
       "      <th></th>\n",
       "      <th>cluster_id</th>\n",
       "      <th>obfuscation</th>\n",
       "      <th>text1</th>\n",
       "      <th>text2</th>\n",
       "      <th>ent1</th>\n",
       "      <th>ent2</th>\n",
       "    </tr>\n",
       "  </thead>\n",
       "  <tbody>\n",
       "    <tr>\n",
       "      <th>4016</th>\n",
       "      <td>173</td>\n",
       "      <td>LPR</td>\n",
       "      <td>Ситуация изменилась в 1997 году, когда вернулс...</td>\n",
       "      <td>Ситуация изменилась с возвращением в 1997 году...</td>\n",
       "      <td>0.962912</td>\n",
       "      <td>0.993793</td>\n",
       "    </tr>\n",
       "    <tr>\n",
       "      <th>6675</th>\n",
       "      <td>148</td>\n",
       "      <td>ADD</td>\n",
       "      <td>В армии же используются свои компасы, наиболее...</td>\n",
       "      <td>В армии наиболее распространены компас системы...</td>\n",
       "      <td>0.970211</td>\n",
       "      <td>0.877271</td>\n",
       "    </tr>\n",
       "  </tbody>\n",
       "</table>\n",
       "</div>"
      ],
      "text/plain": [
       "      cluster_id obfuscation  \\\n",
       "4016         173         LPR   \n",
       "6675         148         ADD   \n",
       "\n",
       "                                                  text1  \\\n",
       "4016  Ситуация изменилась в 1997 году, когда вернулс...   \n",
       "6675  В армии же используются свои компасы, наиболее...   \n",
       "\n",
       "                                                  text2      ent1      ent2  \n",
       "4016  Ситуация изменилась с возвращением в 1997 году...  0.962912  0.993793  \n",
       "6675  В армии наиболее распространены компас системы...  0.970211  0.877271  "
      ]
     },
     "execution_count": 28,
     "metadata": {},
     "output_type": "execute_result"
    }
   ],
   "source": [
    "p.sample(2)"
   ]
  },
  {
   "cell_type": "code",
   "execution_count": 27,
   "id": "acknowledged-accident",
   "metadata": {},
   "outputs": [
    {
     "data": {
      "text/plain": [
       "2399"
      ]
     },
     "execution_count": 27,
     "metadata": {},
     "output_type": "execute_result"
    }
   ],
   "source": [
    "len(p)"
   ]
  },
  {
   "cell_type": "code",
   "execution_count": 234,
   "id": "experimental-agreement",
   "metadata": {},
   "outputs": [],
   "source": [
    "p = p[~p.obfuscation.isin(['DEL', 'ADD'])]"
   ]
  },
  {
   "cell_type": "code",
   "execution_count": 239,
   "id": "limiting-eagle",
   "metadata": {},
   "outputs": [
    {
     "name": "stdout",
     "output_type": "stream",
     "text": [
      "Этот эффект колебаний обусловлен не более 51 см/c.\n",
      "Эффект колебаний обусловлен не более 51 сантиметра в секунду.\n"
     ]
    }
   ],
   "source": [
    "k = p.sample(1).iloc[0]\n",
    "print(k['text1'])\n",
    "print(k['text2'])"
   ]
  },
  {
   "cell_type": "code",
   "execution_count": null,
   "id": "internal-square",
   "metadata": {},
   "outputs": [],
   "source": []
  },
  {
   "cell_type": "code",
   "execution_count": 208,
   "id": "resident-egyptian",
   "metadata": {},
   "outputs": [
    {
     "data": {
      "text/html": [
       "<div>\n",
       "<style scoped>\n",
       "    .dataframe tbody tr th:only-of-type {\n",
       "        vertical-align: middle;\n",
       "    }\n",
       "\n",
       "    .dataframe tbody tr th {\n",
       "        vertical-align: top;\n",
       "    }\n",
       "\n",
       "    .dataframe thead th {\n",
       "        text-align: right;\n",
       "    }\n",
       "</style>\n",
       "<table border=\"1\" class=\"dataframe\">\n",
       "  <thead>\n",
       "    <tr style=\"text-align: right;\">\n",
       "      <th></th>\n",
       "      <th>cluster_id</th>\n",
       "      <th>obfuscation</th>\n",
       "      <th>text1</th>\n",
       "      <th>text2</th>\n",
       "      <th>ent1</th>\n",
       "      <th>ent2</th>\n",
       "    </tr>\n",
       "  </thead>\n",
       "  <tbody>\n",
       "    <tr>\n",
       "      <th>45</th>\n",
       "      <td>127</td>\n",
       "      <td>DEL</td>\n",
       "      <td>в результате  перегрева двигателя прогорал пор...</td>\n",
       "      <td>Однако из-за сильного перегрева мотора прогора...</td>\n",
       "      <td>0.747398</td>\n",
       "      <td>0.992827</td>\n",
       "    </tr>\n",
       "    <tr>\n",
       "      <th>180</th>\n",
       "      <td>68</td>\n",
       "      <td>DEL</td>\n",
       "      <td>Возможна ситуация, когда машина не останавлива...</td>\n",
       "      <td>Кроме того, возможна ситуация, когда машина не...</td>\n",
       "      <td>0.639743</td>\n",
       "      <td>0.912762</td>\n",
       "    </tr>\n",
       "    <tr>\n",
       "      <th>202</th>\n",
       "      <td>169</td>\n",
       "      <td>DEL</td>\n",
       "      <td>Как известно, ограниченное количество структур...</td>\n",
       "      <td>Как известно, существует ограниченное количест...</td>\n",
       "      <td>0.630116</td>\n",
       "      <td>0.674603</td>\n",
       "    </tr>\n",
       "    <tr>\n",
       "      <th>368</th>\n",
       "      <td>73</td>\n",
       "      <td>DEL</td>\n",
       "      <td>Создание звуковых картин требовало изменения в...</td>\n",
       "      <td>Ведь создание звуковых картин требовало кардин...</td>\n",
       "      <td>0.642114</td>\n",
       "      <td>0.996345</td>\n",
       "    </tr>\n",
       "    <tr>\n",
       "      <th>465</th>\n",
       "      <td>214</td>\n",
       "      <td>DEL</td>\n",
       "      <td>Играли чисто для своего  удовольствия, и в осн...</td>\n",
       "      <td>Играли просто для собственного удовольствия, и...</td>\n",
       "      <td>0.856813</td>\n",
       "      <td>0.930801</td>\n",
       "    </tr>\n",
       "    <tr>\n",
       "      <th>...</th>\n",
       "      <td>...</td>\n",
       "      <td>...</td>\n",
       "      <td>...</td>\n",
       "      <td>...</td>\n",
       "      <td>...</td>\n",
       "      <td>...</td>\n",
       "    </tr>\n",
       "    <tr>\n",
       "      <th>18934</th>\n",
       "      <td>2027</td>\n",
       "      <td>DEL</td>\n",
       "      <td>Конечно, лидерство в этом обходится ему дорого.</td>\n",
       "      <td>Правда, лидерство в этой области обходится ему...</td>\n",
       "      <td>0.801678</td>\n",
       "      <td>0.994250</td>\n",
       "    </tr>\n",
       "    <tr>\n",
       "      <th>19756</th>\n",
       "      <td>2021</td>\n",
       "      <td>DEL</td>\n",
       "      <td>В ходе этой диеты при избавлении от болезни до...</td>\n",
       "      <td>Эта система в случае ликвидации патологическог...</td>\n",
       "      <td>0.857868</td>\n",
       "      <td>0.645023</td>\n",
       "    </tr>\n",
       "    <tr>\n",
       "      <th>20353</th>\n",
       "      <td>2039</td>\n",
       "      <td>DEL</td>\n",
       "      <td>Неожиданно из толщи воды поднимается Дагон и о...</td>\n",
       "      <td>И неожиданно, из толщи воды появляется Дагон и...</td>\n",
       "      <td>0.987206</td>\n",
       "      <td>0.987593</td>\n",
       "    </tr>\n",
       "    <tr>\n",
       "      <th>20919</th>\n",
       "      <td>2039</td>\n",
       "      <td>DEL</td>\n",
       "      <td>С восьми лет он начал увлекаться химией и астр...</td>\n",
       "      <td>В возрасте восьми лет он увлекся наукой, снача...</td>\n",
       "      <td>0.817078</td>\n",
       "      <td>0.976843</td>\n",
       "    </tr>\n",
       "    <tr>\n",
       "      <th>21673</th>\n",
       "      <td>2042</td>\n",
       "      <td>DEL</td>\n",
       "      <td>Договориться, что нужно тебе, не ему.</td>\n",
       "      <td>Точнее, договориться надо о том, что нужно теб...</td>\n",
       "      <td>0.861614</td>\n",
       "      <td>0.861190</td>\n",
       "    </tr>\n",
       "  </tbody>\n",
       "</table>\n",
       "<p>221 rows × 6 columns</p>\n",
       "</div>"
      ],
      "text/plain": [
       "       cluster_id obfuscation  \\\n",
       "45            127         DEL   \n",
       "180            68         DEL   \n",
       "202           169         DEL   \n",
       "368            73         DEL   \n",
       "465           214         DEL   \n",
       "...           ...         ...   \n",
       "18934        2027         DEL   \n",
       "19756        2021         DEL   \n",
       "20353        2039         DEL   \n",
       "20919        2039         DEL   \n",
       "21673        2042         DEL   \n",
       "\n",
       "                                                   text1  \\\n",
       "45     в результате  перегрева двигателя прогорал пор...   \n",
       "180    Возможна ситуация, когда машина не останавлива...   \n",
       "202    Как известно, ограниченное количество структур...   \n",
       "368    Создание звуковых картин требовало изменения в...   \n",
       "465    Играли чисто для своего  удовольствия, и в осн...   \n",
       "...                                                  ...   \n",
       "18934    Конечно, лидерство в этом обходится ему дорого.   \n",
       "19756  В ходе этой диеты при избавлении от болезни до...   \n",
       "20353  Неожиданно из толщи воды поднимается Дагон и о...   \n",
       "20919  С восьми лет он начал увлекаться химией и астр...   \n",
       "21673              Договориться, что нужно тебе, не ему.   \n",
       "\n",
       "                                                   text2      ent1      ent2  \n",
       "45     Однако из-за сильного перегрева мотора прогора...  0.747398  0.992827  \n",
       "180    Кроме того, возможна ситуация, когда машина не...  0.639743  0.912762  \n",
       "202    Как известно, существует ограниченное количест...  0.630116  0.674603  \n",
       "368    Ведь создание звуковых картин требовало кардин...  0.642114  0.996345  \n",
       "465    Играли просто для собственного удовольствия, и...  0.856813  0.930801  \n",
       "...                                                  ...       ...       ...  \n",
       "18934  Правда, лидерство в этой области обходится ему...  0.801678  0.994250  \n",
       "19756  Эта система в случае ликвидации патологическог...  0.857868  0.645023  \n",
       "20353  И неожиданно, из толщи воды появляется Дагон и...  0.987206  0.987593  \n",
       "20919  В возрасте восьми лет он увлекся наукой, снача...  0.817078  0.976843  \n",
       "21673  Точнее, договориться надо о том, что нужно теб...  0.861614  0.861190  \n",
       "\n",
       "[221 rows x 6 columns]"
      ]
     },
     "execution_count": 208,
     "metadata": {},
     "output_type": "execute_result"
    }
   ],
   "source": [
    "p[p.obfuscation == 'DEL']"
   ]
  },
  {
   "cell_type": "code",
   "execution_count": 226,
   "id": "thousand-march",
   "metadata": {},
   "outputs": [
    {
     "data": {
      "text/plain": [
       "LPR            796\n",
       "HPR            539\n",
       "ADD            294\n",
       "DEL            221\n",
       "SSP            102\n",
       "CCT             79\n",
       "SYN             32\n",
       "SHF,SYN         20\n",
       "LPR,SYN         15\n",
       "LPR,SHF,SYN     14\n",
       "DEL,SYN         13\n",
       "ADD,LPR         12\n",
       "SHF             11\n",
       "ADD,DEL         11\n",
       "ADD,SHF,SYN     10\n",
       "DEL,SHF         10\n",
       "ADD,SYN         10\n",
       "ADD,DEL,SYN      9\n",
       "DEL,LPR,SYN      8\n",
       "ADD,SHF          7\n",
       "Name: obfuscation, dtype: int64"
      ]
     },
     "execution_count": 226,
     "metadata": {},
     "output_type": "execute_result"
    }
   ],
   "source": [
    "p.obfuscation.value_counts().head(20)"
   ]
  },
  {
   "cell_type": "code",
   "execution_count": null,
   "id": "geological-passage",
   "metadata": {},
   "outputs": [],
   "source": []
  },
  {
   "cell_type": "code",
   "execution_count": null,
   "id": "temporal-depression",
   "metadata": {},
   "outputs": [],
   "source": []
  }
 ],
 "metadata": {
  "kernelspec": {
   "display_name": "Python 3",
   "language": "python",
   "name": "python3"
  },
  "language_info": {
   "codemirror_mode": {
    "name": "ipython",
    "version": 3
   },
   "file_extension": ".py",
   "mimetype": "text/x-python",
   "name": "python",
   "nbconvert_exporter": "python",
   "pygments_lexer": "ipython3",
   "version": "3.8.5"
  }
 },
 "nbformat": 4,
 "nbformat_minor": 5
}
