{
 "cells": [
  {
   "cell_type": "code",
   "execution_count": 1,
   "id": "dress-bikini",
   "metadata": {},
   "outputs": [],
   "source": [
    "import xml.etree.ElementTree as ET"
   ]
  },
  {
   "cell_type": "code",
   "execution_count": 2,
   "id": "fifteen-peninsula",
   "metadata": {},
   "outputs": [],
   "source": [
    "body = ET.parse('rltc.tmx').getroot().find('body')"
   ]
  },
  {
   "cell_type": "code",
   "execution_count": 3,
   "id": "static-olive",
   "metadata": {},
   "outputs": [],
   "source": [
    "clusters = []\n",
    "for prop in list(body):\n",
    "    translations = list(prop)\n",
    "    texts = []\n",
    "    for tran in translations:\n",
    "        if tran.tag != 'prop':\n",
    "            texts.append(list(tran)[0].text)\n",
    "    clusters.append(texts)\n",
    "            "
   ]
  },
  {
   "cell_type": "code",
   "execution_count": 4,
   "id": "radio-cambridge",
   "metadata": {},
   "outputs": [],
   "source": [
    "clusters = [c[1:] for c in clusters if len(set(c)) > 2]"
   ]
  },
  {
   "cell_type": "code",
   "execution_count": 5,
   "id": "rational-probe",
   "metadata": {},
   "outputs": [
    {
     "data": {
      "text/plain": [
       "['Безусловно, в Австрии, где корпоративные мероприятия не облагаются налогами, затраты на приглашения на фестивали Моцарта для любителей классической музыки или в Клостерс для лыжников обернутся большой выгодой.',\n",
       " 'Безусловно, в Австрии, где расходы на корпоративные развлечения не облагаются налогами, проведение фестиваля Моцарта для любителей музыки или организация для сотрудников компании, увлекающихся горнолыжным спортом, отдыха на курорте Клостерс, обещает хорошую отдачу на вложенные в эти мероприятия средства.',\n",
       " 'В Австрии, например, корпоративные мероприятия не облагаются налогами, поэтому билет на фестиваль Моцарта, подаренный ценителю музыки, вернется сторицей, а любители лыжного спорта оценят отдых на горнолыжном курорте Клостерс. Все это обещает хороший доход на первоначальные инвестиции.',\n",
       " 'В Австрии, где корпоративные развлечения освобождаются от налогов, фестивали Моцарта для любителей музыки, и альпийский курорт для горнолыжников - хорошее вложение денег.']"
      ]
     },
     "execution_count": 5,
     "metadata": {},
     "output_type": "execute_result"
    }
   ],
   "source": [
    "clusters[200]"
   ]
  },
  {
   "cell_type": "code",
   "execution_count": null,
   "id": "stretch-skating",
   "metadata": {},
   "outputs": [],
   "source": [
    "import torch\n",
    "from transformers import AutoTokenizer, AutoModelForSequenceClassification\n",
    "\n",
    "model_checkpoint = 'cointegrated/rubert-base-cased-nli-twoway'\n",
    "tokenizer = AutoTokenizer.from_pretrained(model_checkpoint)\n",
    "model = AutoModelForSequenceClassification.from_pretrained(model_checkpoint)\n",
    "if torch.cuda.is_available():\n",
    "    model.cuda()\n",
    "\n",
    "def predict_pair(text1, text2):\n",
    "    with torch.inference_mode():\n",
    "        out = model(**tokenizer(text1, text2, return_tensors='pt').to(model.device))\n",
    "        proba = torch.softmax(out.logits, -1).cpu().numpy()[0]\n",
    "        return {v: proba[k] for k, v in model.config.id2label.items()}['entailment']"
   ]
  },
  {
   "cell_type": "code",
   "execution_count": null,
   "id": "fifty-tablet",
   "metadata": {},
   "outputs": [],
   "source": []
  },
  {
   "cell_type": "code",
   "execution_count": null,
   "id": "suburban-collaboration",
   "metadata": {
    "scrolled": true
   },
   "outputs": [],
   "source": [
    "import tqdm\n",
    "from itertools import permutations\n",
    "\n",
    "\n",
    "cur_id = 0\n",
    "for cluster in tqdm.tqdm(clusters[6186:]):\n",
    "    cluster_id = cur_id\n",
    "    for pair in permutations(set(cluster), 2):\n",
    "        try:\n",
    "            proba = predict_pair(*pair)\n",
    "        except RuntimeError as e:\n",
    "            print(e)\n",
    "            continue\n",
    "        data.append((cluster_id, *pair, proba))\n",
    "    cur_id += 1"
   ]
  },
  {
   "cell_type": "code",
   "execution_count": null,
   "id": "chinese-mathematics",
   "metadata": {},
   "outputs": [],
   "source": [
    "len(data)"
   ]
  },
  {
   "cell_type": "code",
   "execution_count": 2,
   "id": "essential-space",
   "metadata": {},
   "outputs": [],
   "source": [
    "import pandas as pd"
   ]
  },
  {
   "cell_type": "code",
   "execution_count": 22,
   "id": "other-facing",
   "metadata": {},
   "outputs": [],
   "source": [
    "\n",
    "# df = pd.DataFrame(data, columns=['cluster_id', 'text1', 'text2', 'proba'])\n",
    "df = pd.read_csv('data/rltc_entailment.csv')"
   ]
  },
  {
   "cell_type": "code",
   "execution_count": 23,
   "id": "classified-pharmaceutical",
   "metadata": {},
   "outputs": [
    {
     "data": {
      "text/plain": [
       "1214490"
      ]
     },
     "execution_count": 23,
     "metadata": {},
     "output_type": "execute_result"
    }
   ],
   "source": [
    "len(df)"
   ]
  },
  {
   "cell_type": "code",
   "execution_count": 24,
   "id": "freelance-living",
   "metadata": {},
   "outputs": [
    {
     "data": {
      "text/html": [
       "<div>\n",
       "<style scoped>\n",
       "    .dataframe tbody tr th:only-of-type {\n",
       "        vertical-align: middle;\n",
       "    }\n",
       "\n",
       "    .dataframe tbody tr th {\n",
       "        vertical-align: top;\n",
       "    }\n",
       "\n",
       "    .dataframe thead th {\n",
       "        text-align: right;\n",
       "    }\n",
       "</style>\n",
       "<table border=\"1\" class=\"dataframe\">\n",
       "  <thead>\n",
       "    <tr style=\"text-align: right;\">\n",
       "      <th></th>\n",
       "      <th>cluster_id</th>\n",
       "      <th>text1</th>\n",
       "      <th>text2</th>\n",
       "      <th>proba</th>\n",
       "    </tr>\n",
       "  </thead>\n",
       "  <tbody>\n",
       "    <tr>\n",
       "      <th>0</th>\n",
       "      <td>0</td>\n",
       "      <td>Однако, всего лишь один взгляд на структуру ОО...</td>\n",
       "      <td>Тем не менее, структура ООН предоставляет нам ...</td>\n",
       "      <td>0.016674</td>\n",
       "    </tr>\n",
       "    <tr>\n",
       "      <th>1</th>\n",
       "      <td>0</td>\n",
       "      <td>Однако, всего лишь один взгляд на структуру ОО...</td>\n",
       "      <td>Однако, мгновенный взгляд на структуру ООН поз...</td>\n",
       "      <td>0.035338</td>\n",
       "    </tr>\n",
       "    <tr>\n",
       "      <th>2</th>\n",
       "      <td>0</td>\n",
       "      <td>Однако, всего лишь один взгляд на структуру ОО...</td>\n",
       "      <td>Однако даже мимолетный взгляд на структуру ООН...</td>\n",
       "      <td>0.329359</td>\n",
       "    </tr>\n",
       "    <tr>\n",
       "      <th>3</th>\n",
       "      <td>0</td>\n",
       "      <td>Однако, всего лишь один взгляд на структуру ОО...</td>\n",
       "      <td>Тем не менее, только один взгляд на структуру ...</td>\n",
       "      <td>0.590414</td>\n",
       "    </tr>\n",
       "    <tr>\n",
       "      <th>4</th>\n",
       "      <td>0</td>\n",
       "      <td>Однако, всего лишь один взгляд на структуру ОО...</td>\n",
       "      <td>Хотя даже другой взгляд на структуру ООН дает ...</td>\n",
       "      <td>0.267942</td>\n",
       "    </tr>\n",
       "  </tbody>\n",
       "</table>\n",
       "</div>"
      ],
      "text/plain": [
       "   cluster_id                                              text1  \\\n",
       "0           0  Однако, всего лишь один взгляд на структуру ОО...   \n",
       "1           0  Однако, всего лишь один взгляд на структуру ОО...   \n",
       "2           0  Однако, всего лишь один взгляд на структуру ОО...   \n",
       "3           0  Однако, всего лишь один взгляд на структуру ОО...   \n",
       "4           0  Однако, всего лишь один взгляд на структуру ОО...   \n",
       "\n",
       "                                               text2     proba  \n",
       "0  Тем не менее, структура ООН предоставляет нам ...  0.016674  \n",
       "1  Однако, мгновенный взгляд на структуру ООН поз...  0.035338  \n",
       "2  Однако даже мимолетный взгляд на структуру ООН...  0.329359  \n",
       "3  Тем не менее, только один взгляд на структуру ...  0.590414  \n",
       "4  Хотя даже другой взгляд на структуру ООН дает ...  0.267942  "
      ]
     },
     "execution_count": 24,
     "metadata": {},
     "output_type": "execute_result"
    }
   ],
   "source": [
    "df.head()"
   ]
  },
  {
   "cell_type": "code",
   "execution_count": 25,
   "id": "responsible-inquiry",
   "metadata": {},
   "outputs": [],
   "source": [
    "df2 = df.copy()\n",
    "df2.columns = ['cluster_id', 'text2', 'text1', 'ent']\n",
    "\n",
    "df = df.merge(df2, on = ['text1', 'text2'])"
   ]
  },
  {
   "cell_type": "code",
   "execution_count": 26,
   "id": "tender-forum",
   "metadata": {},
   "outputs": [],
   "source": [
    "import numpy as np\n",
    "\n",
    "dupes = pd.DataFrame(np.sort(df[['text1', 'text2']].values, axis=1),\n",
    "                     index=df[['text1', 'text2']].index,\n",
    "                     columns=df[['text1', 'text2']].columns)\n",
    "df = df[~dupes.duplicated()]"
   ]
  },
  {
   "cell_type": "code",
   "execution_count": 27,
   "id": "subtle-asian",
   "metadata": {},
   "outputs": [],
   "source": [
    "df = df[['cluster_id_x', 'text1', 'text2', 'proba', 'ent']]\n",
    "df.columns = ['cluster_id', 'text1', 'text2', 'ent1', 'ent2']"
   ]
  },
  {
   "cell_type": "code",
   "execution_count": 28,
   "id": "brilliant-handy",
   "metadata": {},
   "outputs": [
    {
     "data": {
      "text/plain": [
       "606957"
      ]
     },
     "execution_count": 28,
     "metadata": {},
     "output_type": "execute_result"
    }
   ],
   "source": [
    "len(df)"
   ]
  },
  {
   "cell_type": "code",
   "execution_count": 29,
   "id": "manual-birth",
   "metadata": {},
   "outputs": [],
   "source": [
    "df = df[(df.ent1 > 0.7) & (df.ent2 > 0.7)]"
   ]
  },
  {
   "cell_type": "code",
   "execution_count": 30,
   "id": "closing-poetry",
   "metadata": {},
   "outputs": [
    {
     "data": {
      "text/plain": [
       "148052"
      ]
     },
     "execution_count": 30,
     "metadata": {},
     "output_type": "execute_result"
    }
   ],
   "source": [
    "len(df)"
   ]
  },
  {
   "cell_type": "code",
   "execution_count": 31,
   "id": "under-colon",
   "metadata": {},
   "outputs": [],
   "source": [
    "from alphabet_detector import AlphabetDetector\n",
    "ad = AlphabetDetector()\n",
    "\n",
    "\n",
    "df = df[~(df.text1.apply(lambda x: ad.is_latin(x)))]\n",
    "df = df[~(df.text2.apply(lambda x: ad.is_latin(x)))]"
   ]
  },
  {
   "cell_type": "code",
   "execution_count": 32,
   "id": "framed-fossil",
   "metadata": {},
   "outputs": [
    {
     "data": {
      "text/plain": [
       "123696"
      ]
     },
     "execution_count": 32,
     "metadata": {},
     "output_type": "execute_result"
    }
   ],
   "source": [
    "len(df)"
   ]
  },
  {
   "cell_type": "code",
   "execution_count": 34,
   "id": "olive-scout",
   "metadata": {},
   "outputs": [],
   "source": [
    "from difflib import SequenceMatcher\n",
    "\n",
    "def similar(a, b):\n",
    "    return SequenceMatcher(None, a, b).ratio()"
   ]
  },
  {
   "cell_type": "code",
   "execution_count": 35,
   "id": "fitted-pension",
   "metadata": {},
   "outputs": [],
   "source": [
    "df['leven'] = df.apply(lambda x: similar(x['text1'], x['text2']), axis=1)"
   ]
  },
  {
   "cell_type": "code",
   "execution_count": 51,
   "id": "ruled-democrat",
   "metadata": {},
   "outputs": [],
   "source": [
    "df = df[df.leven < 0.85]"
   ]
  },
  {
   "cell_type": "code",
   "execution_count": null,
   "id": "caring-pierce",
   "metadata": {},
   "outputs": [],
   "source": [
    "df"
   ]
  },
  {
   "cell_type": "code",
   "execution_count": 65,
   "id": "industrial-uganda",
   "metadata": {},
   "outputs": [
    {
     "data": {
      "text/plain": [
       "True"
      ]
     },
     "execution_count": 65,
     "metadata": {},
     "output_type": "execute_result"
    }
   ],
   "source": [
    "45 in range(45, 55)"
   ]
  },
  {
   "cell_type": "code",
   "execution_count": 69,
   "id": "overall-macintosh",
   "metadata": {},
   "outputs": [],
   "source": [
    "df = df[(df.text1.str.len() + df.text2.str.len()) > 50]"
   ]
  },
  {
   "cell_type": "code",
   "execution_count": 70,
   "id": "federal-portland",
   "metadata": {},
   "outputs": [
    {
     "data": {
      "text/plain": [
       "117362"
      ]
     },
     "execution_count": 70,
     "metadata": {},
     "output_type": "execute_result"
    }
   ],
   "source": [
    "len(df)"
   ]
  },
  {
   "cell_type": "code",
   "execution_count": 77,
   "id": "dried-wednesday",
   "metadata": {},
   "outputs": [],
   "source": [
    "from natasha import (\n",
    "    Segmenter,\n",
    "    MorphVocab,\n",
    "    \n",
    "    NewsEmbedding,\n",
    "    NewsMorphTagger,\n",
    "    NewsSyntaxParser,\n",
    "    NewsNERTagger,\n",
    "    \n",
    "    PER,\n",
    "    NamesExtractor,\n",
    "\n",
    "    Doc\n",
    ")\n",
    "from collections import Counter\n",
    "from razdel import tokenize\n",
    "\n",
    "segmenter = Segmenter()\n",
    "morph_vocab = MorphVocab()\n",
    "\n",
    "emb = NewsEmbedding()\n",
    "ner_tagger = NewsNERTagger(emb)\n",
    "\n",
    "names_extractor = NamesExtractor(morph_vocab)\n",
    "\n",
    "def match_ents(s1, s2):\n",
    "    doc1, doc2 = Doc(s1), Doc(s2)\n",
    "    \n",
    "    doc1.segment(segmenter)\n",
    "    doc2.segment(segmenter)\n",
    "    \n",
    "    doc1.tag_ner(ner_tagger)\n",
    "    doc2.tag_ner(ner_tagger)\n",
    "    \n",
    "    if Counter([s.type for s in doc1.spans]) != Counter([s.type for s in doc2.spans]):\n",
    "        return False\n",
    "    \n",
    "    numbers1 = set()\n",
    "    numbers2 = set()\n",
    "    \n",
    "    for tok in doc1.tokens:\n",
    "        if has_numbers(tok.text):\n",
    "            numbers1.add(tok.text)\n",
    "    \n",
    "    for tok in doc2.tokens:\n",
    "        if has_numbers(tok.text):\n",
    "            numbers2.add(tok.text)\n",
    "    \n",
    "    if numbers1 != numbers2:\n",
    "        return False\n",
    "    \n",
    "    return True\n",
    "    \n",
    "\n",
    "def has_numbers(inputString):\n",
    "    return any(char.isdigit() for char in inputString)\n",
    "\n",
    "def match_abbr(s1, s2):\n",
    "    abbrs1 = set()\n",
    "    abbrs2 = set()\n",
    "    \n",
    "    for tok in tokenize(s1):\n",
    "        if tok.text.isupper() and len(tok.text) > 1:\n",
    "            abbrs1.add(tok.text)\n",
    "    for tok in tokenize(s2):\n",
    "        if tok.text.isupper() and len(tok.text) > 1:\n",
    "            abbrs2.add(tok.text)\n",
    "    if abbrs1 == abbrs2:\n",
    "        return True\n",
    "    return False\n",
    "\n",
    "def match_latin(s1, s2):\n",
    "    lat1 = set()\n",
    "    lat2 = set()\n",
    "    \n",
    "    for tok in tokenize(s1):\n",
    "        if ad.islatin(tok.text):\n",
    "            lat1.add(tok.text)\n",
    "    for tok in tokenize(s2):\n",
    "        if ad.islatin(tok.text):\n",
    "            lat2.add(tok.text)\n",
    "\n",
    "    if lat1 == lat2:\n",
    "        return True\n",
    "    return False"
   ]
  },
  {
   "cell_type": "code",
   "execution_count": 78,
   "id": "transparent-deposit",
   "metadata": {},
   "outputs": [],
   "source": [
    "df = df[df.apply(lambda x: match_abbr(x['text1'], x['text2']), axis=1)]"
   ]
  },
  {
   "cell_type": "code",
   "execution_count": 79,
   "id": "friendly-devil",
   "metadata": {},
   "outputs": [
    {
     "data": {
      "text/plain": [
       "110789"
      ]
     },
     "execution_count": 79,
     "metadata": {},
     "output_type": "execute_result"
    }
   ],
   "source": [
    "len(df)"
   ]
  },
  {
   "cell_type": "code",
   "execution_count": 81,
   "id": "documentary-reunion",
   "metadata": {},
   "outputs": [
    {
     "name": "stderr",
     "output_type": "stream",
     "text": [
      "100%|██████████| 110789/110789 [07:56<00:00, 232.30it/s]\n"
     ]
    }
   ],
   "source": [
    "import tqdm\n",
    "\n",
    "ner_data = []\n",
    "for i, row in tqdm.tqdm(df.iterrows(), total=len(df)):\n",
    "    if match_ents(row['text1'], row['text2']):\n",
    "        ner_data.append(i)"
   ]
  },
  {
   "cell_type": "code",
   "execution_count": 104,
   "id": "terminal-messenger",
   "metadata": {},
   "outputs": [],
   "source": [
    "df = df[df.index.isin(ner_data)]"
   ]
  },
  {
   "cell_type": "code",
   "execution_count": 105,
   "id": "pregnant-beauty",
   "metadata": {},
   "outputs": [
    {
     "data": {
      "text/plain": [
       "85116"
      ]
     },
     "execution_count": 105,
     "metadata": {},
     "output_type": "execute_result"
    }
   ],
   "source": [
    "len(ner_data)"
   ]
  },
  {
   "cell_type": "code",
   "execution_count": 106,
   "id": "raising-relaxation",
   "metadata": {},
   "outputs": [],
   "source": [
    "def same(s1, s2):\n",
    "    toks1 = set([_.text for _ in tokenize(s1) if _.text.isalpha()])\n",
    "    toks2 = set([_.text for _ in tokenize(s2) if _.text.isalpha()])\n",
    "    \n",
    "    if toks1 == toks2:\n",
    "        return True\n",
    "    return False"
   ]
  },
  {
   "cell_type": "code",
   "execution_count": 107,
   "id": "corresponding-breach",
   "metadata": {},
   "outputs": [],
   "source": [
    "df = df[~df.apply(lambda x: same(x['text1'], x['text2']), axis=1)]"
   ]
  },
  {
   "cell_type": "code",
   "execution_count": 109,
   "id": "technological-zoning",
   "metadata": {},
   "outputs": [],
   "source": [
    "df.to_csv('data/clean/rltc_clean.tsv', sep='\\t', index=False)"
   ]
  },
  {
   "cell_type": "code",
   "execution_count": 76,
   "id": "indian-prior",
   "metadata": {},
   "outputs": [
    {
     "name": "stdout",
     "output_type": "stream",
     "text": [
      "То, насколько сильное будет сопротивление, зависит от нескольких факторов: размер вашей руки, скорость машины и плотность воздуха.\n",
      "В нашем случае сила сопротивления зависит от нескольких факторов: размер вашей руки, скорость движения машины и плотность воздуха.\n"
     ]
    }
   ],
   "source": [
    "q = df[df.leven > 0.82].sample(1).iloc[0]\n",
    "print(q['text1'])\n",
    "print(q['text2'])"
   ]
  }
 ],
 "metadata": {
  "kernelspec": {
   "display_name": "Python 3",
   "language": "python",
   "name": "python3"
  },
  "language_info": {
   "codemirror_mode": {
    "name": "ipython",
    "version": 3
   },
   "file_extension": ".py",
   "mimetype": "text/x-python",
   "name": "python",
   "nbconvert_exporter": "python",
   "pygments_lexer": "ipython3",
   "version": "3.8.5"
  }
 },
 "nbformat": 4,
 "nbformat_minor": 5
}
