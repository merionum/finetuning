{
 "cells": [
  {
   "cell_type": "code",
   "execution_count": null,
   "id": "fabulous-browse",
   "metadata": {},
   "outputs": [],
   "source": [
    "import torch\n",
    "from transformers import AutoTokenizer, AutoModelForSequenceClassification\n",
    "import pandas as pd\n",
    "\n",
    "\n",
    "model_checkpoint = 'cointegrated/rubert-base-cased-nli-twoway'\n",
    "tokenizer = AutoTokenizer.from_pretrained(model_checkpoint)\n",
    "model = AutoModelForSequenceClassification.from_pretrained(model_checkpoint)\n",
    "if torch.cuda.is_available():\n",
    "    model.cuda()\n",
    "\n",
    "def predict_pair(text1, text2):\n",
    "    with torch.inference_mode():\n",
    "        out = model(**tokenizer(text1, text2, return_tensors='pt').to(model.device))\n",
    "        proba = torch.softmax(out.logits, -1).cpu().numpy()[0]\n",
    "        return {v: proba[k] for k, v in model.config.id2label.items()}['entailment']"
   ]
  },
  {
   "cell_type": "code",
   "execution_count": null,
   "id": "convinced-execution",
   "metadata": {},
   "outputs": [],
   "source": [
    "import json\n",
    "\n",
    "ppp = json.loads(open('ParaPhraserPlus.json').read())"
   ]
  },
  {
   "cell_type": "code",
   "execution_count": null,
   "id": "chubby-battle",
   "metadata": {},
   "outputs": [],
   "source": [
    "len(ppp)"
   ]
  },
  {
   "cell_type": "code",
   "execution_count": null,
   "id": "desirable-criterion",
   "metadata": {},
   "outputs": [],
   "source": [
    "ppp['0']"
   ]
  },
  {
   "cell_type": "code",
   "execution_count": null,
   "id": "brutal-plasma",
   "metadata": {
    "scrolled": true
   },
   "outputs": [],
   "source": [
    "import tqdm\n",
    "from itertools import permutations\n",
    "\n",
    "with open('ppp_entailment_pairs.jsonl', 'w', encoding='utf8') as f:\n",
    "    for i, row in tqdm.tqdm(ppp.items()):\n",
    "        cluster_id = i\n",
    "        for pair in permutations(set(row['headlines']), 2):\n",
    "            try:\n",
    "                proba = predict_pair(*pair)\n",
    "            except RuntimeError as e:\n",
    "                print(e)\n",
    "                continue\n",
    "            f.write(json.dumps({\n",
    "                \"cluster_id\": cluster_id,\n",
    "                \"text1\": pair[0],\n",
    "                \"text2\": pair[1],\n",
    "                \"proba\": float(proba)\n",
    "            }, ensure_ascii=False)+'\\n')\n",
    "#             data.append((cluster_id, *pair, proba))"
   ]
  },
  {
   "cell_type": "code",
   "execution_count": null,
   "id": "informational-needle",
   "metadata": {},
   "outputs": [],
   "source": []
  },
  {
   "cell_type": "code",
   "execution_count": null,
   "id": "finite-measurement",
   "metadata": {},
   "outputs": [],
   "source": [
    "import json\n",
    "import tqdm\n",
    "\n",
    "\n",
    "data = []\n",
    "for line in tqdm.tqdm(open('data/ppp_entailment.jsonl'), total=31060464):\n",
    "    data.append(tuple(json.loads(line).values()))"
   ]
  },
  {
   "cell_type": "code",
   "execution_count": null,
   "id": "arbitrary-henry",
   "metadata": {},
   "outputs": [],
   "source": [
    "import pandas as pd\n",
    "\n",
    "data = pd.DataFrame(data)"
   ]
  },
  {
   "cell_type": "code",
   "execution_count": null,
   "id": "manufactured-malaysia",
   "metadata": {},
   "outputs": [],
   "source": [
    "data.columns = ['cluster_id', 'text1', 'text2', 'ent']"
   ]
  },
  {
   "cell_type": "code",
   "execution_count": null,
   "id": "breathing-ordinary",
   "metadata": {},
   "outputs": [],
   "source": [
    "df2 = data.copy()\n",
    "df2.columns = ['cluster_id', 'text2', 'text1', 'ent']"
   ]
  },
  {
   "cell_type": "code",
   "execution_count": null,
   "id": "gentle-block",
   "metadata": {},
   "outputs": [],
   "source": [
    "data = data.merge(df2, on = ['text1', 'text2'])"
   ]
  },
  {
   "cell_type": "code",
   "execution_count": null,
   "id": "suburban-wesley",
   "metadata": {},
   "outputs": [],
   "source": [
    "import gc"
   ]
  },
  {
   "cell_type": "code",
   "execution_count": null,
   "id": "fleet-accent",
   "metadata": {},
   "outputs": [],
   "source": [
    "del df2\n",
    "gc.collect()"
   ]
  },
  {
   "cell_type": "code",
   "execution_count": null,
   "id": "logical-enough",
   "metadata": {},
   "outputs": [],
   "source": [
    "data.to_csv('data/ppp_entailment_test.tsv', sep='\\t', index=False)"
   ]
  },
  {
   "cell_type": "code",
   "execution_count": null,
   "id": "flying-operation",
   "metadata": {},
   "outputs": [],
   "source": [
    "import numpy as np\n",
    "\n",
    "dupes = pd.DataFrame(np.sort(data[['text1', 'text2']].values, axis=1),\n",
    "                     index=data[['text1', 'text2']].index,\n",
    "                     columns=data[['text1', 'text2']].columns)\n",
    "data = data[~dupes.duplicated()]"
   ]
  },
  {
   "cell_type": "code",
   "execution_count": null,
   "id": "identified-victoria",
   "metadata": {},
   "outputs": [],
   "source": [
    "data = data[['cluster_id_x', 'text1', 'text2', 'ent_x', 'ent_y']]\n",
    "data.columns = ['cluster_id', 'text1', 'text2', 'ent1', 'ent2']"
   ]
  },
  {
   "cell_type": "code",
   "execution_count": null,
   "id": "attached-strengthening",
   "metadata": {},
   "outputs": [],
   "source": [
    "del dupes"
   ]
  },
  {
   "cell_type": "code",
   "execution_count": null,
   "id": "reported-consolidation",
   "metadata": {},
   "outputs": [],
   "source": [
    "gc.collect()"
   ]
  },
  {
   "cell_type": "code",
   "execution_count": null,
   "id": "boring-table",
   "metadata": {},
   "outputs": [],
   "source": [
    "data.to_csv('data/ppp_entailment_test.tsv', sep='\\t', index=False)"
   ]
  },
  {
   "cell_type": "code",
   "execution_count": 2,
   "id": "complicated-buffalo",
   "metadata": {},
   "outputs": [],
   "source": [
    "import pandas as pd\n",
    "\n",
    "df = pd.read_csv('data/ppp_entailment_test.tsv', sep='\\t')"
   ]
  },
  {
   "cell_type": "code",
   "execution_count": 5,
   "id": "compliant-variable",
   "metadata": {},
   "outputs": [],
   "source": [
    "df = df[(df.ent1 > 0.7) & (df.ent2 > 0.7)]"
   ]
  },
  {
   "cell_type": "code",
   "execution_count": 7,
   "id": "optical-determination",
   "metadata": {},
   "outputs": [
    {
     "data": {
      "text/html": [
       "<div>\n",
       "<style scoped>\n",
       "    .dataframe tbody tr th:only-of-type {\n",
       "        vertical-align: middle;\n",
       "    }\n",
       "\n",
       "    .dataframe tbody tr th {\n",
       "        vertical-align: top;\n",
       "    }\n",
       "\n",
       "    .dataframe thead th {\n",
       "        text-align: right;\n",
       "    }\n",
       "</style>\n",
       "<table border=\"1\" class=\"dataframe\">\n",
       "  <thead>\n",
       "    <tr style=\"text-align: right;\">\n",
       "      <th></th>\n",
       "      <th>cluster_id</th>\n",
       "      <th>text1</th>\n",
       "      <th>text2</th>\n",
       "      <th>ent1</th>\n",
       "      <th>ent2</th>\n",
       "    </tr>\n",
       "  </thead>\n",
       "  <tbody>\n",
       "    <tr>\n",
       "      <th>51</th>\n",
       "      <td>16</td>\n",
       "      <td>Пепел камчатского вулкана Шивелуч угрожает ави...</td>\n",
       "      <td>На Камчатке пепел от вулкана Шивелуч угрожает ...</td>\n",
       "      <td>0.955676</td>\n",
       "      <td>0.806798</td>\n",
       "    </tr>\n",
       "    <tr>\n",
       "      <th>52</th>\n",
       "      <td>16</td>\n",
       "      <td>Пепел камчатского вулкана Шивелуч угрожает ави...</td>\n",
       "      <td>Пепел вулкана Шивелуч поставил под угрозу авиа...</td>\n",
       "      <td>0.783761</td>\n",
       "      <td>0.719882</td>\n",
       "    </tr>\n",
       "    <tr>\n",
       "      <th>54</th>\n",
       "      <td>16</td>\n",
       "      <td>На Камчатке пепел от вулкана Шивелуч угрожает ...</td>\n",
       "      <td>Пепел вулкана Шивелуч поставил под угрозу авиа...</td>\n",
       "      <td>0.910644</td>\n",
       "      <td>0.974905</td>\n",
       "    </tr>\n",
       "    <tr>\n",
       "      <th>62</th>\n",
       "      <td>19</td>\n",
       "      <td>При пожаре в общежитии в Нижнем Тагиле погибли...</td>\n",
       "      <td>В Нижнем Тагиле два человека погибли при пожар...</td>\n",
       "      <td>0.958635</td>\n",
       "      <td>0.944878</td>\n",
       "    </tr>\n",
       "    <tr>\n",
       "      <th>63</th>\n",
       "      <td>19</td>\n",
       "      <td>При пожаре в общежитии в Нижнем Тагиле погибли...</td>\n",
       "      <td>Два человека погибли в результате пожара в общ...</td>\n",
       "      <td>0.965440</td>\n",
       "      <td>0.974930</td>\n",
       "    </tr>\n",
       "    <tr>\n",
       "      <th>...</th>\n",
       "      <td>...</td>\n",
       "      <td>...</td>\n",
       "      <td>...</td>\n",
       "      <td>...</td>\n",
       "      <td>...</td>\n",
       "    </tr>\n",
       "    <tr>\n",
       "      <th>13106876</th>\n",
       "      <td>1725369</td>\n",
       "      <td>Рязанцев продлил контракт с Рубином</td>\n",
       "      <td>Рязанцев продлил соглашение с \"Рубином\"</td>\n",
       "      <td>0.935678</td>\n",
       "      <td>0.918486</td>\n",
       "    </tr>\n",
       "    <tr>\n",
       "      <th>13106920</th>\n",
       "      <td>1725372</td>\n",
       "      <td>На переговорах между Москвой и Минском не удал...</td>\n",
       "      <td>Переговоры о поставках нефти из России в Белор...</td>\n",
       "      <td>0.876671</td>\n",
       "      <td>0.761887</td>\n",
       "    </tr>\n",
       "    <tr>\n",
       "      <th>13106936</th>\n",
       "      <td>1725374</td>\n",
       "      <td>СМИ: уполномоченным по правам ребенка в РФ наз...</td>\n",
       "      <td>Павел Астахов назначен уполномоченным по права...</td>\n",
       "      <td>0.970460</td>\n",
       "      <td>0.800465</td>\n",
       "    </tr>\n",
       "    <tr>\n",
       "      <th>13106952</th>\n",
       "      <td>1725377</td>\n",
       "      <td>Космонавты на МКС смогут отпраздновать Новый г...</td>\n",
       "      <td>Космонавты с МКС встретят Новый год 16 раз</td>\n",
       "      <td>0.956374</td>\n",
       "      <td>0.987361</td>\n",
       "    </tr>\n",
       "    <tr>\n",
       "      <th>13106953</th>\n",
       "      <td>1725377</td>\n",
       "      <td>Космонавты на МКС смогут отпраздновать Новый г...</td>\n",
       "      <td>Интернациональный экипаж МКС встретит Новый го...</td>\n",
       "      <td>0.961555</td>\n",
       "      <td>0.889103</td>\n",
       "    </tr>\n",
       "  </tbody>\n",
       "</table>\n",
       "<p>725224 rows × 5 columns</p>\n",
       "</div>"
      ],
      "text/plain": [
       "          cluster_id                                              text1  \\\n",
       "51                16  Пепел камчатского вулкана Шивелуч угрожает ави...   \n",
       "52                16  Пепел камчатского вулкана Шивелуч угрожает ави...   \n",
       "54                16  На Камчатке пепел от вулкана Шивелуч угрожает ...   \n",
       "62                19  При пожаре в общежитии в Нижнем Тагиле погибли...   \n",
       "63                19  При пожаре в общежитии в Нижнем Тагиле погибли...   \n",
       "...              ...                                                ...   \n",
       "13106876     1725369                Рязанцев продлил контракт с Рубином   \n",
       "13106920     1725372  На переговорах между Москвой и Минском не удал...   \n",
       "13106936     1725374  СМИ: уполномоченным по правам ребенка в РФ наз...   \n",
       "13106952     1725377  Космонавты на МКС смогут отпраздновать Новый г...   \n",
       "13106953     1725377  Космонавты на МКС смогут отпраздновать Новый г...   \n",
       "\n",
       "                                                      text2      ent1  \\\n",
       "51        На Камчатке пепел от вулкана Шивелуч угрожает ...  0.955676   \n",
       "52        Пепел вулкана Шивелуч поставил под угрозу авиа...  0.783761   \n",
       "54        Пепел вулкана Шивелуч поставил под угрозу авиа...  0.910644   \n",
       "62        В Нижнем Тагиле два человека погибли при пожар...  0.958635   \n",
       "63        Два человека погибли в результате пожара в общ...  0.965440   \n",
       "...                                                     ...       ...   \n",
       "13106876            Рязанцев продлил соглашение с \"Рубином\"  0.935678   \n",
       "13106920  Переговоры о поставках нефти из России в Белор...  0.876671   \n",
       "13106936  Павел Астахов назначен уполномоченным по права...  0.970460   \n",
       "13106952         Космонавты с МКС встретят Новый год 16 раз  0.956374   \n",
       "13106953  Интернациональный экипаж МКС встретит Новый го...  0.961555   \n",
       "\n",
       "              ent2  \n",
       "51        0.806798  \n",
       "52        0.719882  \n",
       "54        0.974905  \n",
       "62        0.944878  \n",
       "63        0.974930  \n",
       "...            ...  \n",
       "13106876  0.918486  \n",
       "13106920  0.761887  \n",
       "13106936  0.800465  \n",
       "13106952  0.987361  \n",
       "13106953  0.889103  \n",
       "\n",
       "[725224 rows x 5 columns]"
      ]
     },
     "execution_count": 7,
     "metadata": {},
     "output_type": "execute_result"
    }
   ],
   "source": [
    "df"
   ]
  },
  {
   "cell_type": "code",
   "execution_count": 23,
   "id": "anonymous-easter",
   "metadata": {},
   "outputs": [],
   "source": [
    "from alphabet_detector import AlphabetDetector\n",
    "ad = AlphabetDetector()\n",
    "\n",
    "\n",
    "df = df[~(df.text1.apply(lambda x: ad.is_latin(x)))]\n",
    "df = df[~(df.text2.apply(lambda x: ad.is_latin(x)))]"
   ]
  },
  {
   "cell_type": "code",
   "execution_count": 25,
   "id": "drawn-bunny",
   "metadata": {},
   "outputs": [],
   "source": [
    "from difflib import SequenceMatcher\n",
    "\n",
    "def similar(a, b):\n",
    "    return SequenceMatcher(None, a, b).ratio()"
   ]
  },
  {
   "cell_type": "code",
   "execution_count": 26,
   "id": "informational-switzerland",
   "metadata": {},
   "outputs": [],
   "source": [
    "df['leven'] = df.apply(lambda x: similar(x['text1'], x['text2']), axis=1)"
   ]
  },
  {
   "cell_type": "code",
   "execution_count": 27,
   "id": "bored-precipitation",
   "metadata": {},
   "outputs": [
    {
     "data": {
      "text/plain": [
       "<AxesSubplot:>"
      ]
     },
     "execution_count": 27,
     "metadata": {},
     "output_type": "execute_result"
    },
    {
     "data": {
      "image/png": "[encoded data removed]",
      "text/plain": [
       "<Figure size 432x288 with 1 Axes>"
      ]
     },
     "metadata": {
      "needs_background": "light"
     },
     "output_type": "display_data"
    }
   ],
   "source": [
    "df['leven'].hist()"
   ]
  },
  {
   "cell_type": "code",
   "execution_count": 46,
   "id": "banner-rouge",
   "metadata": {},
   "outputs": [],
   "source": [
    "df = df[df['leven'] < 0.82]"
   ]
  },
  {
   "cell_type": "code",
   "execution_count": 56,
   "id": "bibliographic-exercise",
   "metadata": {},
   "outputs": [
    {
     "data": {
      "text/plain": [
       "592564"
      ]
     },
     "execution_count": 56,
     "metadata": {},
     "output_type": "execute_result"
    }
   ],
   "source": [
    "len(df)"
   ]
  },
  {
   "cell_type": "code",
   "execution_count": 57,
   "id": "junior-tokyo",
   "metadata": {},
   "outputs": [],
   "source": [
    "from natasha import (\n",
    "    Segmenter,\n",
    "    MorphVocab,\n",
    "    \n",
    "    NewsEmbedding,\n",
    "    NewsMorphTagger,\n",
    "    NewsSyntaxParser,\n",
    "    NewsNERTagger,\n",
    "    \n",
    "    PER,\n",
    "    NamesExtractor,\n",
    "\n",
    "    Doc\n",
    ")\n",
    "from collections import Counter\n",
    "from razdel import tokenize\n",
    "\n",
    "segmenter = Segmenter()\n",
    "morph_vocab = MorphVocab()\n",
    "\n",
    "emb = NewsEmbedding()\n",
    "ner_tagger = NewsNERTagger(emb)\n",
    "\n",
    "names_extractor = NamesExtractor(morph_vocab)\n",
    "\n",
    "def match_ents(s1, s2):\n",
    "    doc1, doc2 = Doc(s1), Doc(s2)\n",
    "    \n",
    "    doc1.segment(segmenter)\n",
    "    doc2.segment(segmenter)\n",
    "    \n",
    "    doc1.tag_ner(ner_tagger)\n",
    "    doc2.tag_ner(ner_tagger)\n",
    "    \n",
    "    if Counter([s.type for s in doc1.spans]) != Counter([s.type for s in doc2.spans]):\n",
    "        return False\n",
    "    \n",
    "    numbers1 = set()\n",
    "    numbers2 = set()\n",
    "    \n",
    "    for tok in doc1.tokens:\n",
    "        if has_numbers(tok.text):\n",
    "            numbers1.add(tok.text)\n",
    "    \n",
    "    for tok in doc2.tokens:\n",
    "        if has_numbers(tok.text):\n",
    "            numbers2.add(tok.text)\n",
    "    \n",
    "    if numbers1 != numbers2:\n",
    "        return False\n",
    "    \n",
    "    return True\n",
    "    \n",
    "\n",
    "def has_numbers(inputString):\n",
    "    return any(char.isdigit() for char in inputString)\n",
    "\n",
    "def match_abbr(s1, s2):\n",
    "    abbrs1 = set()\n",
    "    abbrs2 = set()\n",
    "    \n",
    "    for tok in tokenize(s1):\n",
    "        if tok.text.isupper() and len(tok.text) > 1:\n",
    "            abbrs1.add(tok.text)\n",
    "    for tok in tokenize(s2):\n",
    "        if tok.text.isupper() and len(tok.text) > 1:\n",
    "            abbrs2.add(tok.text)\n",
    "    if abbrs1 == abbrs2:\n",
    "        return True\n",
    "    return False\n",
    "\n",
    "def match_latin(s1, s2):\n",
    "    lat1 = set()\n",
    "    lat2 = set()\n",
    "    \n",
    "    for tok in tokenize(s1):\n",
    "        if ad.islatin(tok.text):\n",
    "            lat1.add(tok.text)\n",
    "    for tok in tokenize(s2):\n",
    "        if ad.islatin(tok.text):\n",
    "            lat2.add(tok.text)\n",
    "\n",
    "    if lat1 == lat2:\n",
    "        return True\n",
    "    return False"
   ]
  },
  {
   "cell_type": "code",
   "execution_count": 58,
   "id": "civic-plastic",
   "metadata": {},
   "outputs": [],
   "source": [
    "df = df[df.apply(lambda x: match_abbr(x['text1'], x['text2']), axis=1)]"
   ]
  },
  {
   "cell_type": "code",
   "execution_count": 62,
   "id": "committed-midnight",
   "metadata": {},
   "outputs": [
    {
     "name": "stderr",
     "output_type": "stream",
     "text": [
      "100%|██████████| 503638/503638 [20:08<00:00, 416.81it/s]\n"
     ]
    }
   ],
   "source": [
    "import tqdm\n",
    "\n",
    "ner_data = []\n",
    "for i, row in tqdm.tqdm(df.iterrows(), total=len(df)):\n",
    "    if match_ents(row['text1'], row['text2']):\n",
    "        ner_data.append(i)"
   ]
  },
  {
   "cell_type": "code",
   "execution_count": 66,
   "id": "spare-constraint",
   "metadata": {},
   "outputs": [],
   "source": [
    "df = df[df.index.isin(ner_data)]"
   ]
  },
  {
   "cell_type": "code",
   "execution_count": 67,
   "id": "latter-middle",
   "metadata": {},
   "outputs": [
    {
     "data": {
      "text/plain": [
       "341411"
      ]
     },
     "execution_count": 67,
     "metadata": {},
     "output_type": "execute_result"
    }
   ],
   "source": [
    "len(df)"
   ]
  },
  {
   "cell_type": "code",
   "execution_count": 84,
   "id": "simple-jaguar",
   "metadata": {},
   "outputs": [],
   "source": [
    "def same(s1, s2):\n",
    "    toks1 = set([_.text.lower() for _ in tokenize(s1) if _.text.isalpha()])\n",
    "    toks2 = set([_.text.lower() for _ in tokenize(s2) if _.text.isalpha()])\n",
    "#     print(toks1, toks2)\n",
    "    if toks1 == toks2:\n",
    "        return True\n",
    "    return False"
   ]
  },
  {
   "cell_type": "code",
   "execution_count": 85,
   "id": "blind-marble",
   "metadata": {},
   "outputs": [],
   "source": [
    "df = df[~df.apply(lambda x: same(x['text1'], x['text2']), axis=1)]"
   ]
  },
  {
   "cell_type": "code",
   "execution_count": 86,
   "id": "powerful-employer",
   "metadata": {},
   "outputs": [
    {
     "data": {
      "text/plain": [
       "319709"
      ]
     },
     "execution_count": 86,
     "metadata": {},
     "output_type": "execute_result"
    }
   ],
   "source": [
    "len(df)"
   ]
  },
  {
   "cell_type": "code",
   "execution_count": 108,
   "id": "impossible-marketing",
   "metadata": {},
   "outputs": [
    {
     "name": "stdout",
     "output_type": "stream",
     "text": [
      "Три человека погибли в результате столкновения 20 контейнерных грузовиков в Шанхае\n",
      "При столкновении 20 фур в Шанхае погибли три человека\n"
     ]
    }
   ],
   "source": [
    "k = df.sample(1).iloc[0]\n",
    "print(k['text1'])\n",
    "print(k['text2'])"
   ]
  },
  {
   "cell_type": "code",
   "execution_count": 109,
   "id": "innovative-harassment",
   "metadata": {},
   "outputs": [],
   "source": [
    "df.to_csv('data/clean/ppp_clean.tsv', sep='\\t', index=False)"
   ]
  }
 ],
 "metadata": {
  "kernelspec": {
   "display_name": "Python 3",
   "language": "python",
   "name": "python3"
  },
  "language_info": {
   "codemirror_mode": {
    "name": "ipython",
    "version": 3
   },
   "file_extension": ".py",
   "mimetype": "text/x-python",
   "name": "python",
   "nbconvert_exporter": "python",
   "pygments_lexer": "ipython3",
   "version": "3.8.5"
  }
 },
 "nbformat": 4,
 "nbformat_minor": 5
}
