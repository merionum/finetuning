{
 "cells": [
  {
   "cell_type": "code",
   "execution_count": 2,
   "id": "indirect-above",
   "metadata": {},
   "outputs": [],
   "source": [
    "# import torch\n",
    "# from transformers import AutoTokenizer, AutoModelForSequenceClassification\n",
    "# import pandas as pd\n",
    "\n",
    "\n",
    "# model_checkpoint = 'cointegrated/rubert-base-cased-nli-twoway'\n",
    "# tokenizer = AutoTokenizer.from_pretrained(model_checkpoint)\n",
    "# model = AutoModelForSequenceClassification.from_pretrained(model_checkpoint)\n",
    "# if torch.cuda.is_available():\n",
    "#     model.cuda()\n",
    "\n",
    "# def predict_pair(text1, text2):\n",
    "#     with torch.inference_mode():\n",
    "#         out = model(**tokenizer(text1, text2, return_tensors='pt').to(model.device))\n",
    "#         proba = torch.softmax(out.logits, -1).cpu().numpy()[0]\n",
    "#         return {v: proba[k] for k, v in model.config.id2label.items()}['entailment']"
   ]
  },
  {
   "cell_type": "code",
   "execution_count": null,
   "id": "material-brazil",
   "metadata": {},
   "outputs": [],
   "source": [
    "# import pandas as pd\n",
    "\n",
    "# df = pd.read_csv('data/raw/mcoco.csv')\n",
    "# df.caption = df.caption.apply(eval)"
   ]
  },
  {
   "cell_type": "code",
   "execution_count": null,
   "id": "technical-danish",
   "metadata": {},
   "outputs": [],
   "source": [
    "import tqdm\n",
    "from itertools import permutations\n",
    "\n",
    "\n",
    "data = []\n",
    "for _, row in tqdm.tqdm(df.iterrows(), total=len(df)):\n",
    "    cluster_id = row['image_id']\n",
    "    for pair in permutations(set(row['caption']), 2):\n",
    "        try:\n",
    "            proba = predict_pair(*pair)\n",
    "        except RuntimeError as e:\n",
    "            print(e)\n",
    "            continue\n",
    "        data.append((cluster_id, *pair, proba))"
   ]
  },
  {
   "cell_type": "code",
   "execution_count": 3,
   "id": "sexual-musician",
   "metadata": {},
   "outputs": [],
   "source": [
    "import pandas as pd"
   ]
  },
  {
   "cell_type": "code",
   "execution_count": null,
   "id": "contained-click",
   "metadata": {},
   "outputs": [],
   "source": [
    "# df_pairs = pd.DataFrame(data, columns=['cluster_id', 'text1', 'text2', 'proba'])"
   ]
  },
  {
   "cell_type": "code",
   "execution_count": null,
   "id": "automated-irish",
   "metadata": {},
   "outputs": [],
   "source": [
    "# df_pairs.to_csv('mcoco_pairs_entailment.csv', index=False)"
   ]
  },
  {
   "cell_type": "code",
   "execution_count": 4,
   "id": "precise-mechanics",
   "metadata": {},
   "outputs": [],
   "source": [
    "df = pd.read_csv('data/mcoco_entailment.csv')"
   ]
  },
  {
   "cell_type": "code",
   "execution_count": 5,
   "id": "higher-identity",
   "metadata": {},
   "outputs": [],
   "source": [
    "import tqdm"
   ]
  },
  {
   "cell_type": "code",
   "execution_count": 6,
   "id": "developmental-british",
   "metadata": {},
   "outputs": [],
   "source": [
    "df2 = df.copy()\n",
    "df2.columns = ['cluster_id', 'text2', 'text1', 'proba']"
   ]
  },
  {
   "cell_type": "code",
   "execution_count": 23,
   "id": "identical-rabbit",
   "metadata": {},
   "outputs": [],
   "source": [
    "df = df.merge(df2, on = ['text1', 'text2'])\n",
    "df = df[['cluster_id_x', 'text1', 'text2', 'proba_x', 'proba_y']]\n",
    "df.columns = ['cluster_id', 'text1', 'text2', 'ent1', 'ent2']"
   ]
  },
  {
   "cell_type": "code",
   "execution_count": 30,
   "id": "olympic-stable",
   "metadata": {},
   "outputs": [],
   "source": [
    "import numpy as np\n",
    "\n",
    "dupes = pd.DataFrame(np.sort(df[['text1', 'text2']].values, axis=1),\n",
    "                     index=df[['text1', 'text2']].index,\n",
    "                     columns=df[['text1', 'text2']].columns)\n",
    "df = df[~dupes.duplicated()]"
   ]
  },
  {
   "cell_type": "code",
   "execution_count": 58,
   "id": "considerable-organ",
   "metadata": {
    "scrolled": true
   },
   "outputs": [],
   "source": [
    "df = df[(df.ent1 > 0.7) & (df.ent2 > 0.7)]"
   ]
  },
  {
   "cell_type": "code",
   "execution_count": 98,
   "id": "acknowledged-czech",
   "metadata": {},
   "outputs": [],
   "source": [
    "from alphabet_detector import AlphabetDetector\n",
    "ad = AlphabetDetector()\n",
    "\n",
    "\n",
    "df = df[~(df.text1.apply(lambda x: ad.is_latin(x)))]\n",
    "df = df[~(df.text2.apply(lambda x: ad.is_latin(x)))]"
   ]
  },
  {
   "cell_type": "code",
   "execution_count": 100,
   "id": "prescribed-intervention",
   "metadata": {},
   "outputs": [],
   "source": [
    "from natasha import (\n",
    "    Segmenter,\n",
    "    MorphVocab,\n",
    "    \n",
    "    NewsEmbedding,\n",
    "    NewsMorphTagger,\n",
    "    NewsSyntaxParser,\n",
    "    NewsNERTagger,\n",
    "    \n",
    "    PER,\n",
    "    NamesExtractor,\n",
    "\n",
    "    Doc\n",
    ")\n",
    "from collections import Counter\n",
    "from razdel import tokenize\n",
    "\n",
    "segmenter = Segmenter()\n",
    "morph_vocab = MorphVocab()\n",
    "\n",
    "emb = NewsEmbedding()\n",
    "ner_tagger = NewsNERTagger(emb)\n",
    "\n",
    "names_extractor = NamesExtractor(morph_vocab)\n",
    "\n",
    "def match_ents(s1, s2):\n",
    "    doc1, doc2 = Doc(s1), Doc(s2)\n",
    "    \n",
    "    doc1.segment(segmenter)\n",
    "    doc2.segment(segmenter)\n",
    "    \n",
    "    doc1.tag_ner(ner_tagger)\n",
    "    doc2.tag_ner(ner_tagger)\n",
    "    \n",
    "    if Counter([s.type for s in doc1.spans]) != Counter([s.type for s in doc2.spans]):\n",
    "        return False\n",
    "    \n",
    "    numbers1 = set()\n",
    "    numbers2 = set()\n",
    "    \n",
    "    for tok in doc1.tokens:\n",
    "        if has_numbers(tok.text):\n",
    "            numbers1.add(tok.text)\n",
    "    \n",
    "    for tok in doc2.tokens:\n",
    "        if has_numbers(tok.text):\n",
    "            numbers2.add(tok.text)\n",
    "    \n",
    "    if numbers1 != numbers2:\n",
    "        return False\n",
    "    \n",
    "    return True\n",
    "    \n",
    "\n",
    "def has_numbers(inputString):\n",
    "    return any(char.isdigit() for char in inputString)\n",
    "\n",
    "def match_abbr(s1, s2):\n",
    "    abbrs1 = set()\n",
    "    abbrs2 = set()\n",
    "    \n",
    "    for tok in tokenize(s1):\n",
    "        if tok.text.isupper() and len(tok.text) > 1:\n",
    "            abbrs1.add(tok.text)\n",
    "    for tok in tokenize(s2):\n",
    "        if tok.text.isupper() and len(tok.text) > 1:\n",
    "            abbrs2.add(tok.text)\n",
    "    if abbrs1 == abbrs2:\n",
    "        return True\n",
    "    return False\n",
    "\n",
    "def match_latin(s1, s2):\n",
    "    lat1 = set()\n",
    "    lat2 = set()\n",
    "    \n",
    "    for tok in tokenize(s1):\n",
    "        if ad.islatin(tok.text):\n",
    "            lat1.add(tok.text)\n",
    "    for tok in tokenize(s2):\n",
    "        if ad.islatin(tok.text):\n",
    "            lat2.add(tok.text)\n",
    "\n",
    "    if lat1 == lat2:\n",
    "        return True\n",
    "    return False"
   ]
  },
  {
   "cell_type": "code",
   "execution_count": 101,
   "id": "humanitarian-treasure",
   "metadata": {},
   "outputs": [],
   "source": [
    "df = df[df.apply(lambda x: match_abbr(x['text1'], x['text2']), axis=1)]"
   ]
  },
  {
   "cell_type": "code",
   "execution_count": 102,
   "id": "sustained-referral",
   "metadata": {},
   "outputs": [
    {
     "data": {
      "text/plain": [
       "18204"
      ]
     },
     "execution_count": 102,
     "metadata": {},
     "output_type": "execute_result"
    }
   ],
   "source": [
    "len(df)"
   ]
  },
  {
   "cell_type": "code",
   "execution_count": 107,
   "id": "related-tuesday",
   "metadata": {},
   "outputs": [
    {
     "name": "stderr",
     "output_type": "stream",
     "text": [
      "100%|██████████| 18204/18204 [00:41<00:00, 442.19it/s]\n"
     ]
    }
   ],
   "source": [
    "import tqdm\n",
    "\n",
    "ner_data = []\n",
    "for i, row in tqdm.tqdm(df.iterrows(), total=len(df)):\n",
    "    if match_ents(row['text1'], row['text2']):\n",
    "        ner_data.append(i)"
   ]
  },
  {
   "cell_type": "code",
   "execution_count": 142,
   "id": "united-remove",
   "metadata": {},
   "outputs": [],
   "source": [
    "df = df[df.index.isin(ner_data)]"
   ]
  },
  {
   "cell_type": "code",
   "execution_count": 143,
   "id": "married-leather",
   "metadata": {},
   "outputs": [
    {
     "data": {
      "text/html": [
       "<div>\n",
       "<style scoped>\n",
       "    .dataframe tbody tr th:only-of-type {\n",
       "        vertical-align: middle;\n",
       "    }\n",
       "\n",
       "    .dataframe tbody tr th {\n",
       "        vertical-align: top;\n",
       "    }\n",
       "\n",
       "    .dataframe thead th {\n",
       "        text-align: right;\n",
       "    }\n",
       "</style>\n",
       "<table border=\"1\" class=\"dataframe\">\n",
       "  <thead>\n",
       "    <tr style=\"text-align: right;\">\n",
       "      <th></th>\n",
       "      <th>cluster_id</th>\n",
       "      <th>text1</th>\n",
       "      <th>text2</th>\n",
       "      <th>ent1</th>\n",
       "      <th>ent2</th>\n",
       "    </tr>\n",
       "  </thead>\n",
       "  <tbody>\n",
       "    <tr>\n",
       "      <th>0</th>\n",
       "      <td>9</td>\n",
       "      <td>Куча предателей, у которых разная еда.</td>\n",
       "      <td>есть контейнеры, наполненные различными видами...</td>\n",
       "      <td>0.963380</td>\n",
       "      <td>0.979076</td>\n",
       "    </tr>\n",
       "    <tr>\n",
       "      <th>351</th>\n",
       "      <td>92</td>\n",
       "      <td>Кусок шоколада на тарелке с салфеткой и вилкой.</td>\n",
       "      <td>шоколадный торт и готовая к употреблению вилка</td>\n",
       "      <td>0.748423</td>\n",
       "      <td>0.802098</td>\n",
       "    </tr>\n",
       "    <tr>\n",
       "      <th>355</th>\n",
       "      <td>92</td>\n",
       "      <td>Шоколадное десерт на тарелке с вилкой.</td>\n",
       "      <td>шоколадный торт и готовая к употреблению вилка</td>\n",
       "      <td>0.860718</td>\n",
       "      <td>0.918646</td>\n",
       "    </tr>\n",
       "    <tr>\n",
       "      <th>415</th>\n",
       "      <td>110</td>\n",
       "      <td>Женщина резала пиццу вилкой и ножом</td>\n",
       "      <td>Женщина режет пиццу вилкой и ножом.</td>\n",
       "      <td>0.968125</td>\n",
       "      <td>0.984165</td>\n",
       "    </tr>\n",
       "    <tr>\n",
       "      <th>721</th>\n",
       "      <td>196</td>\n",
       "      <td>Стол с морковью, горохом, салатом, кукурузой, ...</td>\n",
       "      <td>Стол, полный еды, такой как горох и морковь, х...</td>\n",
       "      <td>0.962813</td>\n",
       "      <td>0.746812</td>\n",
       "    </tr>\n",
       "    <tr>\n",
       "      <th>...</th>\n",
       "      <td>...</td>\n",
       "      <td>...</td>\n",
       "      <td>...</td>\n",
       "      <td>...</td>\n",
       "      <td>...</td>\n",
       "    </tr>\n",
       "    <tr>\n",
       "      <th>2268206</th>\n",
       "      <td>581815</td>\n",
       "      <td>В водоеме плавает стайка уток.</td>\n",
       "      <td>Несколько уток плавают вместе в водоеме.</td>\n",
       "      <td>0.962703</td>\n",
       "      <td>0.972966</td>\n",
       "    </tr>\n",
       "    <tr>\n",
       "      <th>2268468</th>\n",
       "      <td>581882</td>\n",
       "      <td>санузел с раковиной, зеркалом и раковиной</td>\n",
       "      <td>В ванной комнате есть раковина и зеркало.</td>\n",
       "      <td>0.948727</td>\n",
       "      <td>0.904250</td>\n",
       "    </tr>\n",
       "    <tr>\n",
       "      <th>2268496</th>\n",
       "      <td>581884</td>\n",
       "      <td>Группа людей летающих котят на пляже</td>\n",
       "      <td>Пляж с летающими котятами, пока люди смотрят.</td>\n",
       "      <td>0.793174</td>\n",
       "      <td>0.965322</td>\n",
       "    </tr>\n",
       "    <tr>\n",
       "      <th>2268501</th>\n",
       "      <td>581884</td>\n",
       "      <td>Пляж с летающими котятами, пока люди смотрят.</td>\n",
       "      <td>Толпа людей летающих котят на песчаном пляже.</td>\n",
       "      <td>0.838597</td>\n",
       "      <td>0.912526</td>\n",
       "    </tr>\n",
       "    <tr>\n",
       "      <th>2268529</th>\n",
       "      <td>581899</td>\n",
       "      <td>Пару поездов, которые стоят рядом.</td>\n",
       "      <td>Пространство между двумя поездами, проходящими...</td>\n",
       "      <td>0.871971</td>\n",
       "      <td>0.805039</td>\n",
       "    </tr>\n",
       "  </tbody>\n",
       "</table>\n",
       "<p>17308 rows × 5 columns</p>\n",
       "</div>"
      ],
      "text/plain": [
       "         cluster_id                                              text1  \\\n",
       "0                 9             Куча предателей, у которых разная еда.   \n",
       "351              92    Кусок шоколада на тарелке с салфеткой и вилкой.   \n",
       "355              92             Шоколадное десерт на тарелке с вилкой.   \n",
       "415             110                Женщина резала пиццу вилкой и ножом   \n",
       "721             196  Стол с морковью, горохом, салатом, кукурузой, ...   \n",
       "...             ...                                                ...   \n",
       "2268206      581815                     В водоеме плавает стайка уток.   \n",
       "2268468      581882          санузел с раковиной, зеркалом и раковиной   \n",
       "2268496      581884               Группа людей летающих котят на пляже   \n",
       "2268501      581884      Пляж с летающими котятами, пока люди смотрят.   \n",
       "2268529      581899                 Пару поездов, которые стоят рядом.   \n",
       "\n",
       "                                                     text2      ent1      ent2  \n",
       "0        есть контейнеры, наполненные различными видами...  0.963380  0.979076  \n",
       "351         шоколадный торт и готовая к употреблению вилка  0.748423  0.802098  \n",
       "355         шоколадный торт и готовая к употреблению вилка  0.860718  0.918646  \n",
       "415                    Женщина режет пиццу вилкой и ножом.  0.968125  0.984165  \n",
       "721      Стол, полный еды, такой как горох и морковь, х...  0.962813  0.746812  \n",
       "...                                                    ...       ...       ...  \n",
       "2268206           Несколько уток плавают вместе в водоеме.  0.962703  0.972966  \n",
       "2268468          В ванной комнате есть раковина и зеркало.  0.948727  0.904250  \n",
       "2268496      Пляж с летающими котятами, пока люди смотрят.  0.793174  0.965322  \n",
       "2268501      Толпа людей летающих котят на песчаном пляже.  0.838597  0.912526  \n",
       "2268529  Пространство между двумя поездами, проходящими...  0.871971  0.805039  \n",
       "\n",
       "[17308 rows x 5 columns]"
      ]
     },
     "execution_count": 143,
     "metadata": {},
     "output_type": "execute_result"
    }
   ],
   "source": [
    "df"
   ]
  },
  {
   "cell_type": "code",
   "execution_count": 151,
   "id": "southeast-jacket",
   "metadata": {},
   "outputs": [],
   "source": [
    "df.to_csv('data/clean/mcoco_clean.tsv', sep='\\t', index=False)"
   ]
  },
  {
   "cell_type": "code",
   "execution_count": 150,
   "id": "collected-lawsuit",
   "metadata": {},
   "outputs": [
    {
     "name": "stdout",
     "output_type": "stream",
     "text": [
      "черно-белая кошка и черно-коричнево-белая, сидящая на чемодане\n",
      "Две белые и черные кошки сидят на сумке для багажа.\n"
     ]
    }
   ],
   "source": [
    "k = df.sample(1).iloc[0]\n",
    "print(k['text1'])\n",
    "print(k['text2'])"
   ]
  }
 ],
 "metadata": {
  "kernelspec": {
   "display_name": "Python 3",
   "language": "python",
   "name": "python3"
  },
  "language_info": {
   "codemirror_mode": {
    "name": "ipython",
    "version": 3
   },
   "file_extension": ".py",
   "mimetype": "text/x-python",
   "name": "python",
   "nbconvert_exporter": "python",
   "pygments_lexer": "ipython3",
   "version": "3.8.5"
  }
 },
 "nbformat": 4,
 "nbformat_minor": 5
}
