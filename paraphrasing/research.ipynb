{
 "cells": [
  {
   "cell_type": "code",
   "execution_count": 1,
   "id": "adjacent-agenda",
   "metadata": {},
   "outputs": [],
   "source": [
    "import json"
   ]
  },
  {
   "cell_type": "code",
   "execution_count": 6,
   "id": "accepted-cause",
   "metadata": {
    "scrolled": true
   },
   "outputs": [],
   "source": [
    "data = [json.loads(l) for l in open('all_4_datasets.json').readlines()]"
   ]
  },
  {
   "cell_type": "code",
   "execution_count": 7,
   "id": "pharmaceutical-shift",
   "metadata": {},
   "outputs": [
    {
     "data": {
      "text/plain": [
       "{'tokens': ['Состояние',\n",
       "  'после',\n",
       "  'операции',\n",
       "  'имплантации',\n",
       "  'бивентрикулярного',\n",
       "  'ЭКС',\n",
       "  'Biotronic',\n",
       "  'Lumax',\n",
       "  '340',\n",
       "  'HF-T',\n",
       "  'от',\n",
       "  '10.11.54',\n",
       "  'г',\n",
       "  '.',\n",
       "  'НК',\n",
       "  'II-',\n",
       "  'А',\n",
       "  'ст',\n",
       "  '.',\n",
       "  'ФК',\n",
       "  'II',\n",
       "  'по',\n",
       "  'NYHA',\n",
       "  '.'],\n",
       " 'tags': ['O',\n",
       "  'O',\n",
       "  'O',\n",
       "  'O',\n",
       "  'O',\n",
       "  'O',\n",
       "  'O',\n",
       "  'O',\n",
       "  'O',\n",
       "  'O',\n",
       "  'O',\n",
       "  'O',\n",
       "  'O',\n",
       "  'O',\n",
       "  'O',\n",
       "  'O',\n",
       "  'O',\n",
       "  'O',\n",
       "  'O',\n",
       "  'O',\n",
       "  'O',\n",
       "  'O',\n",
       "  'O',\n",
       "  'O']}"
      ]
     },
     "execution_count": 7,
     "metadata": {},
     "output_type": "execute_result"
    }
   ],
   "source": [
    "data[0]"
   ]
  },
  {
   "cell_type": "code",
   "execution_count": null,
   "id": "played-breakdown",
   "metadata": {},
   "outputs": [],
   "source": []
  }
 ],
 "metadata": {
  "kernelspec": {
   "display_name": "Python 3",
   "language": "python",
   "name": "python3"
  },
  "language_info": {
   "codemirror_mode": {
    "name": "ipython",
    "version": 3
   },
   "file_extension": ".py",
   "mimetype": "text/x-python",
   "name": "python",
   "nbconvert_exporter": "python",
   "pygments_lexer": "ipython3",
   "version": "3.8.5"
  }
 },
 "nbformat": 4,
 "nbformat_minor": 5
}
