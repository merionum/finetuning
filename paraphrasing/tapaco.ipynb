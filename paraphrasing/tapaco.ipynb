{
 "cells": [
  {
   "cell_type": "code",
   "execution_count": 1,
   "id": "crude-attitude",
   "metadata": {},
   "outputs": [
    {
     "name": "stderr",
     "output_type": "stream",
     "text": [
      "Reusing dataset tapaco (/home/merionum/.cache/huggingface/datasets/tapaco/ru/1.0.0/71d200534b520a174927a8f0479c06220a0a6fb5201a84ebfce19006c6354698)\n"
     ]
    },
    {
     "data": {
      "application/vnd.jupyter.widget-view+json": {
       "model_id": "ba52cd6a8a2b4f56b12f85d7eb4e1bdb",
       "version_major": 2,
       "version_minor": 0
      },
      "text/plain": [
       "  0%|          | 0/1 [00:00<?, ?it/s]"
      ]
     },
     "metadata": {},
     "output_type": "display_data"
    }
   ],
   "source": [
    "from datasets import load_dataset\n",
    "\n",
    "dataset = load_dataset(\"tapaco\", \"ru\")"
   ]
  },
  {
   "cell_type": "code",
   "execution_count": 29,
   "id": "posted-plate",
   "metadata": {},
   "outputs": [],
   "source": [
    "import torch\n",
    "from transformers import AutoTokenizer, AutoModelForSequenceClassification\n",
    "import pandas as pd\n",
    "\n",
    "\n",
    "model_checkpoint = 'cointegrated/rubert-base-cased-nli-twoway'\n",
    "tokenizer = AutoTokenizer.from_pretrained(model_checkpoint)\n",
    "model = AutoModelForSequenceClassification.from_pretrained(model_checkpoint)\n",
    "if torch.cuda.is_available():\n",
    "    model.cuda()\n",
    "\n",
    "def predict_pair(text1, text2):\n",
    "    with torch.inference_mode():\n",
    "        out = model(**tokenizer(text1, text2, return_tensors='pt').to(model.device))\n",
    "        proba = torch.softmax(out.logits, -1).cpu().numpy()[0]\n",
    "        return {v: proba[k] for k, v in model.config.id2label.items()}['entailment']"
   ]
  },
  {
   "cell_type": "code",
   "execution_count": 18,
   "id": "northern-miami",
   "metadata": {},
   "outputs": [],
   "source": [
    "import pandas as pd\n",
    "\n",
    "df = pd.DataFrame(dataset['train'])"
   ]
  },
  {
   "cell_type": "code",
   "execution_count": 30,
   "id": "pressing-pitch",
   "metadata": {},
   "outputs": [],
   "source": [
    "df = df.groupby('paraphrase_set_id').agg({'paraphrase': list}).reset_index()"
   ]
  },
  {
   "cell_type": "code",
   "execution_count": null,
   "id": "grand-negotiation",
   "metadata": {},
   "outputs": [],
   "source": []
  },
  {
   "cell_type": "code",
   "execution_count": 62,
   "id": "peaceful-dream",
   "metadata": {},
   "outputs": [
    {
     "name": "stderr",
     "output_type": "stream",
     "text": [
      " 88%|████████▊ | 80251/91240 [57:43<03:29, 52.39it/s]   IOPub message rate exceeded.\n",
      "The notebook server will temporarily stop sending output\n",
      "to the client in order to avoid crashing it.\n",
      "To change this limit, set the config variable\n",
      "`--NotebookApp.iopub_msg_rate_limit`.\n",
      "\n",
      "Current values:\n",
      "NotebookApp.iopub_msg_rate_limit=1000.0 (msgs/sec)\n",
      "NotebookApp.rate_limit_window=3.0 (secs)\n",
      "\n"
     ]
    }
   ],
   "source": [
    "import tqdm\n",
    "from itertools import combinations\n",
    "\n",
    "data = []\n",
    "for _, row in tqdm.tqdm(df.iterrows(), total=len(df)):\n",
    "    cluster_id = row['paraphrase_set_id']\n",
    "    pairs = combinations(row['paraphrase'], 2)\n",
    "    for t1, t2 in pairs:\n",
    "        ent1 = predict_pair(t1, t2)\n",
    "        ent2 = predict_pair(t2, t1)\n",
    "        data.append({\n",
    "            \"cluster_id\": cluster_id,\n",
    "            \"text1\": t1,\n",
    "            \"text2\": t2,\n",
    "            \"ent1\": ent1,\n",
    "            \"ent2\": ent2\n",
    "        })"
   ]
  },
  {
   "cell_type": "code",
   "execution_count": 66,
   "id": "starting-habitat",
   "metadata": {},
   "outputs": [
    {
     "data": {
      "text/html": [
       "<div>\n",
       "<style scoped>\n",
       "    .dataframe tbody tr th:only-of-type {\n",
       "        vertical-align: middle;\n",
       "    }\n",
       "\n",
       "    .dataframe tbody tr th {\n",
       "        vertical-align: top;\n",
       "    }\n",
       "\n",
       "    .dataframe thead th {\n",
       "        text-align: right;\n",
       "    }\n",
       "</style>\n",
       "<table border=\"1\" class=\"dataframe\">\n",
       "  <thead>\n",
       "    <tr style=\"text-align: right;\">\n",
       "      <th></th>\n",
       "      <th>paraphrase_set_id</th>\n",
       "      <th>paraphrase</th>\n",
       "    </tr>\n",
       "  </thead>\n",
       "  <tbody>\n",
       "    <tr>\n",
       "      <th>0</th>\n",
       "      <td>1</td>\n",
       "      <td>[Я ем сыр., Я ем йогурт., Я кушаю сыр., Я съел...</td>\n",
       "    </tr>\n",
       "    <tr>\n",
       "      <th>1</th>\n",
       "      <td>10</td>\n",
       "      <td>[Он говорит по-английски?, Вы говорите по-англ...</td>\n",
       "    </tr>\n",
       "    <tr>\n",
       "      <th>2</th>\n",
       "      <td>100</td>\n",
       "      <td>[Ты сегодня вечером смотрел телевизор?, Ты сег...</td>\n",
       "    </tr>\n",
       "    <tr>\n",
       "      <th>3</th>\n",
       "      <td>10002</td>\n",
       "      <td>[Линкольн — важная персона., Линкольн — важный...</td>\n",
       "    </tr>\n",
       "    <tr>\n",
       "      <th>4</th>\n",
       "      <td>100024</td>\n",
       "      <td>[Откуда у неё этот список?, Где она взяла этот...</td>\n",
       "    </tr>\n",
       "    <tr>\n",
       "      <th>...</th>\n",
       "      <td>...</td>\n",
       "      <td>...</td>\n",
       "    </tr>\n",
       "    <tr>\n",
       "      <th>91235</th>\n",
       "      <td>9997</td>\n",
       "      <td>[Я оставил свою карточку дома., Я забыл свою к...</td>\n",
       "    </tr>\n",
       "    <tr>\n",
       "      <th>91236</th>\n",
       "      <td>9998</td>\n",
       "      <td>[У тебя есть кредитная карточка?, У тебя есть ...</td>\n",
       "    </tr>\n",
       "    <tr>\n",
       "      <th>91237</th>\n",
       "      <td>99981</td>\n",
       "      <td>[Где ты научился карате?, Где ты научилась кар...</td>\n",
       "    </tr>\n",
       "    <tr>\n",
       "      <th>91238</th>\n",
       "      <td>9999</td>\n",
       "      <td>[Я буду бороться до смерти., Я буду сражаться ...</td>\n",
       "    </tr>\n",
       "    <tr>\n",
       "      <th>91239</th>\n",
       "      <td>99990</td>\n",
       "      <td>[Куда ты её спрятал?, Куда ты его спрятал?, Ку...</td>\n",
       "    </tr>\n",
       "  </tbody>\n",
       "</table>\n",
       "<p>91240 rows × 2 columns</p>\n",
       "</div>"
      ],
      "text/plain": [
       "      paraphrase_set_id                                         paraphrase\n",
       "0                     1  [Я ем сыр., Я ем йогурт., Я кушаю сыр., Я съел...\n",
       "1                    10  [Он говорит по-английски?, Вы говорите по-англ...\n",
       "2                   100  [Ты сегодня вечером смотрел телевизор?, Ты сег...\n",
       "3                 10002  [Линкольн — важная персона., Линкольн — важный...\n",
       "4                100024  [Откуда у неё этот список?, Где она взяла этот...\n",
       "...                 ...                                                ...\n",
       "91235              9997  [Я оставил свою карточку дома., Я забыл свою к...\n",
       "91236              9998  [У тебя есть кредитная карточка?, У тебя есть ...\n",
       "91237             99981  [Где ты научился карате?, Где ты научилась кар...\n",
       "91238              9999  [Я буду бороться до смерти., Я буду сражаться ...\n",
       "91239             99990  [Куда ты её спрятал?, Куда ты его спрятал?, Ку...\n",
       "\n",
       "[91240 rows x 2 columns]"
      ]
     },
     "execution_count": 66,
     "metadata": {},
     "output_type": "execute_result"
    }
   ],
   "source": [
    "df"
   ]
  },
  {
   "cell_type": "code",
   "execution_count": 71,
   "id": "sweet-burlington",
   "metadata": {},
   "outputs": [],
   "source": [
    "# df_ent.to_csv('data/tapaco_entailment.csv', index=False)"
   ]
  },
  {
   "cell_type": "code",
   "execution_count": 3,
   "id": "magnetic-topic",
   "metadata": {},
   "outputs": [],
   "source": [
    "import pandas as pd\n",
    "\n",
    "df = pd.read_csv('data/tapaco_entailment.csv')"
   ]
  },
  {
   "cell_type": "code",
   "execution_count": 8,
   "id": "completed-armor",
   "metadata": {},
   "outputs": [],
   "source": [
    "df = df[(df.ent1 > 0.7) & (df.ent2 > 0.7)]"
   ]
  },
  {
   "cell_type": "code",
   "execution_count": 11,
   "id": "neither-animation",
   "metadata": {},
   "outputs": [],
   "source": [
    "df = df[~(df.text1.str.lower().str.contains('чёрт|черт|бля|хрен|целк|хер|чё |че') | df.text2.str.lower().str.contains('чёрт|черт|бля|хрен|целк|хер|чё |че'))]"
   ]
  },
  {
   "cell_type": "code",
   "execution_count": 14,
   "id": "advisory-peeing",
   "metadata": {},
   "outputs": [],
   "source": [
    "df = df[(df.text1.str.len() + df.text2.str.len()) > 35]"
   ]
  },
  {
   "cell_type": "code",
   "execution_count": 16,
   "id": "gorgeous-simon",
   "metadata": {},
   "outputs": [],
   "source": [
    "df = df[(df.text1.str.split().apply(len) > 3) & (df.text2.str.split().apply(len) > 3)]"
   ]
  },
  {
   "cell_type": "code",
   "execution_count": 18,
   "id": "tribal-solid",
   "metadata": {},
   "outputs": [],
   "source": [
    "df = df[~(df.text1.apply(lambda x: '...' in x)) | (df.text2.apply(lambda x: '...' in x))]"
   ]
  },
  {
   "cell_type": "code",
   "execution_count": 20,
   "id": "northern-rings",
   "metadata": {},
   "outputs": [],
   "source": [
    "def vity(row):\n",
    "    if 'вы' in row['text1'].lower() and 'ты' in row['text2'].lower():\n",
    "        return True\n",
    "    elif 'вы' in row['text2'].lower() and 'ты' in row['text1'].lower():\n",
    "        return True\n",
    "    return False"
   ]
  },
  {
   "cell_type": "code",
   "execution_count": 21,
   "id": "suitable-architect",
   "metadata": {},
   "outputs": [],
   "source": [
    "df = df[~df.apply(vity, axis=1)]"
   ]
  },
  {
   "cell_type": "code",
   "execution_count": 22,
   "id": "official-poverty",
   "metadata": {},
   "outputs": [],
   "source": [
    "from alphabet_detector import AlphabetDetector\n",
    "ad = AlphabetDetector()\n",
    "\n",
    "\n",
    "df = df[~(df.text1.apply(lambda x: ad.is_latin(x)))]\n",
    "df = df[~(df.text2.apply(lambda x: ad.is_latin(x)))]"
   ]
  },
  {
   "cell_type": "code",
   "execution_count": 24,
   "id": "secure-category",
   "metadata": {},
   "outputs": [],
   "source": [
    "from difflib import SequenceMatcher\n",
    "\n",
    "def similar(a, b):\n",
    "    return SequenceMatcher(None, a, b).ratio()"
   ]
  },
  {
   "cell_type": "code",
   "execution_count": 25,
   "id": "still-lying",
   "metadata": {},
   "outputs": [],
   "source": [
    "df['leven'] = df.apply(lambda x: similar(x['text1'], x['text2']), axis=1)"
   ]
  },
  {
   "cell_type": "code",
   "execution_count": 26,
   "id": "lasting-syndicate",
   "metadata": {},
   "outputs": [
    {
     "data": {
      "text/html": [
       "<div>\n",
       "<style scoped>\n",
       "    .dataframe tbody tr th:only-of-type {\n",
       "        vertical-align: middle;\n",
       "    }\n",
       "\n",
       "    .dataframe tbody tr th {\n",
       "        vertical-align: top;\n",
       "    }\n",
       "\n",
       "    .dataframe thead th {\n",
       "        text-align: right;\n",
       "    }\n",
       "</style>\n",
       "<table border=\"1\" class=\"dataframe\">\n",
       "  <thead>\n",
       "    <tr style=\"text-align: right;\">\n",
       "      <th></th>\n",
       "      <th>cluster_id</th>\n",
       "      <th>text1</th>\n",
       "      <th>text2</th>\n",
       "      <th>ent1</th>\n",
       "      <th>ent2</th>\n",
       "      <th>leven</th>\n",
       "    </tr>\n",
       "  </thead>\n",
       "  <tbody>\n",
       "    <tr>\n",
       "      <th>90</th>\n",
       "      <td>10</td>\n",
       "      <td>Говорите ли Вы по-английски?</td>\n",
       "      <td>Вы можете говорить по-английски?</td>\n",
       "      <td>0.944408</td>\n",
       "      <td>0.929248</td>\n",
       "      <td>0.666667</td>\n",
       "    </tr>\n",
       "    <tr>\n",
       "      <th>96</th>\n",
       "      <td>10</td>\n",
       "      <td>Говорите ли Вы по-английски?</td>\n",
       "      <td>Вы разговариваете на английском?</td>\n",
       "      <td>0.941382</td>\n",
       "      <td>0.930654</td>\n",
       "      <td>0.566667</td>\n",
       "    </tr>\n",
       "    <tr>\n",
       "      <th>115</th>\n",
       "      <td>10</td>\n",
       "      <td>Вы разве не говорите по-английски?</td>\n",
       "      <td>Вы можете говорить по-английски?</td>\n",
       "      <td>0.936903</td>\n",
       "      <td>0.764817</td>\n",
       "      <td>0.818182</td>\n",
       "    </tr>\n",
       "    <tr>\n",
       "      <th>121</th>\n",
       "      <td>10</td>\n",
       "      <td>Вы разве не говорите по-английски?</td>\n",
       "      <td>Вы разговариваете на английском?</td>\n",
       "      <td>0.934022</td>\n",
       "      <td>0.708513</td>\n",
       "      <td>0.606061</td>\n",
       "    </tr>\n",
       "    <tr>\n",
       "      <th>142</th>\n",
       "      <td>10</td>\n",
       "      <td>Вы можете говорить по-английски?</td>\n",
       "      <td>Вы разговариваете на английском?</td>\n",
       "      <td>0.929985</td>\n",
       "      <td>0.937610</td>\n",
       "      <td>0.562500</td>\n",
       "    </tr>\n",
       "    <tr>\n",
       "      <th>...</th>\n",
       "      <td>...</td>\n",
       "      <td>...</td>\n",
       "      <td>...</td>\n",
       "      <td>...</td>\n",
       "      <td>...</td>\n",
       "      <td>...</td>\n",
       "    </tr>\n",
       "    <tr>\n",
       "      <th>408736</th>\n",
       "      <td>9997</td>\n",
       "      <td>Я забыла дома кредитку.</td>\n",
       "      <td>Я оставил дома свою кредитную карточку.</td>\n",
       "      <td>0.947373</td>\n",
       "      <td>0.928390</td>\n",
       "      <td>0.612903</td>\n",
       "    </tr>\n",
       "    <tr>\n",
       "      <th>408737</th>\n",
       "      <td>9997</td>\n",
       "      <td>Я забыла дома кредитку.</td>\n",
       "      <td>Я оставил кредитную карточку дома.</td>\n",
       "      <td>0.888700</td>\n",
       "      <td>0.925407</td>\n",
       "      <td>0.491228</td>\n",
       "    </tr>\n",
       "    <tr>\n",
       "      <th>408738</th>\n",
       "      <td>9997</td>\n",
       "      <td>Я оставил дома свою кредитную карточку.</td>\n",
       "      <td>Я оставил кредитную карточку дома.</td>\n",
       "      <td>0.876875</td>\n",
       "      <td>0.949827</td>\n",
       "      <td>0.794521</td>\n",
       "    </tr>\n",
       "    <tr>\n",
       "      <th>408739</th>\n",
       "      <td>9998</td>\n",
       "      <td>У тебя есть кредитная карточка?</td>\n",
       "      <td>У тебя есть кредитка?</td>\n",
       "      <td>0.977508</td>\n",
       "      <td>0.951577</td>\n",
       "      <td>0.807692</td>\n",
       "    </tr>\n",
       "    <tr>\n",
       "      <th>408740</th>\n",
       "      <td>99981</td>\n",
       "      <td>Где ты научился карате?</td>\n",
       "      <td>Где ты научилась карате?</td>\n",
       "      <td>0.907740</td>\n",
       "      <td>0.905638</td>\n",
       "      <td>0.936170</td>\n",
       "    </tr>\n",
       "  </tbody>\n",
       "</table>\n",
       "<p>77505 rows × 6 columns</p>\n",
       "</div>"
      ],
      "text/plain": [
       "        cluster_id                                    text1  \\\n",
       "90              10             Говорите ли Вы по-английски?   \n",
       "96              10             Говорите ли Вы по-английски?   \n",
       "115             10       Вы разве не говорите по-английски?   \n",
       "121             10       Вы разве не говорите по-английски?   \n",
       "142             10         Вы можете говорить по-английски?   \n",
       "...            ...                                      ...   \n",
       "408736        9997                  Я забыла дома кредитку.   \n",
       "408737        9997                  Я забыла дома кредитку.   \n",
       "408738        9997  Я оставил дома свою кредитную карточку.   \n",
       "408739        9998          У тебя есть кредитная карточка?   \n",
       "408740       99981                  Где ты научился карате?   \n",
       "\n",
       "                                          text2      ent1      ent2     leven  \n",
       "90             Вы можете говорить по-английски?  0.944408  0.929248  0.666667  \n",
       "96             Вы разговариваете на английском?  0.941382  0.930654  0.566667  \n",
       "115            Вы можете говорить по-английски?  0.936903  0.764817  0.818182  \n",
       "121            Вы разговариваете на английском?  0.934022  0.708513  0.606061  \n",
       "142            Вы разговариваете на английском?  0.929985  0.937610  0.562500  \n",
       "...                                         ...       ...       ...       ...  \n",
       "408736  Я оставил дома свою кредитную карточку.  0.947373  0.928390  0.612903  \n",
       "408737       Я оставил кредитную карточку дома.  0.888700  0.925407  0.491228  \n",
       "408738       Я оставил кредитную карточку дома.  0.876875  0.949827  0.794521  \n",
       "408739                    У тебя есть кредитка?  0.977508  0.951577  0.807692  \n",
       "408740                 Где ты научилась карате?  0.907740  0.905638  0.936170  \n",
       "\n",
       "[77505 rows x 6 columns]"
      ]
     },
     "execution_count": 26,
     "metadata": {},
     "output_type": "execute_result"
    }
   ],
   "source": [
    "df"
   ]
  },
  {
   "cell_type": "code",
   "execution_count": 30,
   "id": "fitting-separate",
   "metadata": {},
   "outputs": [],
   "source": [
    "df = df[df['leven'] < 0.9]"
   ]
  },
  {
   "cell_type": "code",
   "execution_count": 31,
   "id": "consecutive-annotation",
   "metadata": {},
   "outputs": [],
   "source": [
    "from razdel import tokenize\n",
    "\n",
    "sw = ('ну', 'хуй', 'хуя', 'ээ', 'эээ', 'мэм',\n",
    "      'ох', 'ах', 'вау', 'бог', 'боже', 'эй', '...', '—', 'дерьмо')\n",
    "def stopwords(s):\n",
    "    for tok in tokenize(s):\n",
    "        if tok.text.lower() in sw:\n",
    "            return True\n",
    "    return False\n",
    "\n",
    "def repeat(s):\n",
    "    toks = [_.text for _ in tokenize(s)]\n",
    "    if len(toks) / len(set(toks)) > 2:\n",
    "        return True\n",
    "    return False"
   ]
  },
  {
   "cell_type": "code",
   "execution_count": 32,
   "id": "bigger-parts",
   "metadata": {},
   "outputs": [],
   "source": [
    "df = df[~df.text1.apply(stopwords)]\n",
    "df = df[~df.text2.apply(stopwords)]"
   ]
  },
  {
   "cell_type": "code",
   "execution_count": 34,
   "id": "phantom-affiliate",
   "metadata": {},
   "outputs": [],
   "source": [
    "df = df[~df.text1.apply(repeat)]\n",
    "df = df[~df.text2.apply(repeat)]"
   ]
  },
  {
   "cell_type": "code",
   "execution_count": 44,
   "id": "sound-wings",
   "metadata": {},
   "outputs": [],
   "source": [
    "from natasha import (\n",
    "    Segmenter,\n",
    "    MorphVocab,\n",
    "    \n",
    "    NewsEmbedding,\n",
    "    NewsMorphTagger,\n",
    "    NewsSyntaxParser,\n",
    "    NewsNERTagger,\n",
    "    \n",
    "    PER,\n",
    "    NamesExtractor,\n",
    "\n",
    "    Doc\n",
    ")\n",
    "from collections import Counter\n",
    "from razdel import tokenize\n",
    "\n",
    "segmenter = Segmenter()\n",
    "morph_vocab = MorphVocab()\n",
    "\n",
    "emb = NewsEmbedding()\n",
    "ner_tagger = NewsNERTagger(emb)\n",
    "\n",
    "names_extractor = NamesExtractor(morph_vocab)\n",
    "\n",
    "def match_ents(s1, s2):\n",
    "    doc1, doc2 = Doc(s1), Doc(s2)\n",
    "    \n",
    "    doc1.segment(segmenter)\n",
    "    doc2.segment(segmenter)\n",
    "    \n",
    "    doc1.tag_ner(ner_tagger)\n",
    "    doc2.tag_ner(ner_tagger)\n",
    "#     print(doc1.spans, doc2.spans)\n",
    "    if Counter([s.type for s in doc1.spans]) != Counter([s.type for s in doc2.spans]):\n",
    "        return False\n",
    "    \n",
    "    numbers1 = set()\n",
    "    numbers2 = set()\n",
    "    \n",
    "    for tok in doc1.tokens:\n",
    "        if has_numbers(tok.text):\n",
    "            numbers1.add(tok.text)\n",
    "    \n",
    "    for tok in doc2.tokens:\n",
    "        if has_numbers(tok.text):\n",
    "            numbers2.add(tok.text)\n",
    "    \n",
    "    if numbers1 != numbers2:\n",
    "        return False\n",
    "    \n",
    "    return True\n",
    "    \n",
    "\n",
    "def has_numbers(inputString):\n",
    "    return any(char.isdigit() for char in inputString)\n",
    "\n",
    "def match_abbr(s1, s2):\n",
    "    abbrs1 = set()\n",
    "    abbrs2 = set()\n",
    "    \n",
    "    for tok in tokenize(s1):\n",
    "        if tok.text.isupper() and len(tok.text) > 1:\n",
    "            abbrs1.add(tok.text)\n",
    "    for tok in tokenize(s2):\n",
    "        if tok.text.isupper() and len(tok.text) > 1:\n",
    "            abbrs2.add(tok.text)\n",
    "    if abbrs1 == abbrs2:\n",
    "        return True\n",
    "    return False\n",
    "\n",
    "def match_latin(s1, s2):\n",
    "    lat1 = set()\n",
    "    lat2 = set()\n",
    "    \n",
    "    for tok in tokenize(s1):\n",
    "        if ad.is_latin(tok.text) and tok.text.isalpha():\n",
    "            lat1.add(tok.text)\n",
    "    for tok in tokenize(s2):\n",
    "        if ad.is_latin(tok.text) and tok.text.isalpha():\n",
    "            lat2.add(tok.text)\n",
    "\n",
    "    if lat1 == lat2:\n",
    "        return True\n",
    "    return False"
   ]
  },
  {
   "cell_type": "code",
   "execution_count": 37,
   "id": "organized-solomon",
   "metadata": {},
   "outputs": [],
   "source": [
    "df = df[df.apply(lambda x: match_latin(x['text1'], x['text2']), axis=1)]"
   ]
  },
  {
   "cell_type": "code",
   "execution_count": 39,
   "id": "established-tuner",
   "metadata": {},
   "outputs": [],
   "source": [
    "df = df[~df.text1.apply(lambda x: 'блин' in x)]\n",
    "df = df[~df.text2.apply(lambda x: 'блин' in x)]"
   ]
  },
  {
   "cell_type": "code",
   "execution_count": 41,
   "id": "distinct-gambling",
   "metadata": {},
   "outputs": [],
   "source": [
    "df = df[df.apply(lambda x: match_abbr(x['text1'], x['text2']), axis=1)]"
   ]
  },
  {
   "cell_type": "code",
   "execution_count": 45,
   "id": "ruled-teaching",
   "metadata": {},
   "outputs": [
    {
     "name": "stderr",
     "output_type": "stream",
     "text": [
      "100%|██████████| 67523/67523 [02:18<00:00, 488.80it/s]\n"
     ]
    }
   ],
   "source": [
    "import tqdm\n",
    "\n",
    "ner_data = []\n",
    "for i, row in tqdm.tqdm(df.iterrows(), total=len(df)):\n",
    "    if match_ents(row['text1'], row['text2']):\n",
    "        ner_data.append(i)"
   ]
  },
  {
   "cell_type": "code",
   "execution_count": 50,
   "id": "marine-somalia",
   "metadata": {},
   "outputs": [],
   "source": [
    "df = df[df.index.isin(ner_data)]"
   ]
  },
  {
   "cell_type": "code",
   "execution_count": 51,
   "id": "indirect-sunrise",
   "metadata": {},
   "outputs": [],
   "source": [
    "morph_tagger = NewsMorphTagger(emb)\n",
    "syntax_parser = NewsSyntaxParser(emb)"
   ]
  },
  {
   "cell_type": "code",
   "execution_count": 52,
   "id": "cloudy-briefing",
   "metadata": {},
   "outputs": [],
   "source": [
    "def root_gender(s1, s2):\n",
    "    try:\n",
    "        g = set()\n",
    "        d1 = Doc(s1)\n",
    "        d1.segment(segmenter)\n",
    "        d1.parse_syntax(syntax_parser)\n",
    "        d1.tag_morph(morph_tagger)\n",
    "\n",
    "        d2 = Doc(s2)\n",
    "        d2.segment(segmenter)\n",
    "        d2.parse_syntax(syntax_parser)\n",
    "        d2.tag_morph(morph_tagger)\n",
    "\n",
    "        root_g1 = g.add([_.feats['Gender'] for _ in d1.tokens if _.rel =='root'][0])\n",
    "        root_g2 = g.add([_.feats['Gender'] for _ in d2.tokens if _.rel =='root'][0])\n",
    "    #     print(g)\n",
    "        if g == {'Fem', 'Masc'}:\n",
    "            return False\n",
    "    except:\n",
    "        pass\n",
    "    return True"
   ]
  },
  {
   "cell_type": "code",
   "execution_count": 53,
   "id": "requested-strap",
   "metadata": {},
   "outputs": [
    {
     "name": "stderr",
     "output_type": "stream",
     "text": [
      "100%|██████████| 64796/64796 [04:23<00:00, 245.49it/s]\n"
     ]
    }
   ],
   "source": [
    "gen_data = []\n",
    "\n",
    "for i, row in tqdm.tqdm(df.iterrows(), total=len(df)):\n",
    "    if root_gender(row['text1'], row['text2']):\n",
    "        gen_data.append(i)"
   ]
  },
  {
   "cell_type": "code",
   "execution_count": 55,
   "id": "natural-expression",
   "metadata": {},
   "outputs": [],
   "source": [
    "df = df[df.index.isin(gen_data)]"
   ]
  },
  {
   "cell_type": "code",
   "execution_count": 56,
   "id": "incorporate-macedonia",
   "metadata": {},
   "outputs": [
    {
     "name": "stderr",
     "output_type": "stream",
     "text": [
      "100%|██████████| 61702/61702 [00:03<00:00, 15431.57it/s]\n"
     ]
    }
   ],
   "source": [
    "from collections import Counter\n",
    "\n",
    "c = Counter()\n",
    "\n",
    "for _, row in tqdm.tqdm(df.iterrows(), total=len(df)):\n",
    "    c.update(Counter(row['text1']))\n",
    "    c.update(Counter(row['text2']))"
   ]
  },
  {
   "cell_type": "code",
   "execution_count": null,
   "id": "formed-spokesman",
   "metadata": {},
   "outputs": [],
   "source": [
    "настоящее vs прошедшее время\n",
    "он vs вы\n",
    "то же самое что в opus"
   ]
  },
  {
   "cell_type": "code",
   "execution_count": 62,
   "id": "organized-anchor",
   "metadata": {},
   "outputs": [
    {
     "data": {
      "text/plain": [
       "61702"
      ]
     },
     "execution_count": 62,
     "metadata": {},
     "output_type": "execute_result"
    }
   ],
   "source": [
    "len(df)"
   ]
  },
  {
   "cell_type": "code",
   "execution_count": 91,
   "id": "studied-middle",
   "metadata": {},
   "outputs": [],
   "source": [
    "def same(s1, s2):\n",
    "    toks1 = set([_.text for _ in tokenize(s1) if _.text.isalpha()])\n",
    "    toks2 = set([_.text for _ in tokenize(s2) if _.text.isalpha()])\n",
    "    \n",
    "    if toks1 == toks2:\n",
    "        return True\n",
    "    return False"
   ]
  },
  {
   "cell_type": "code",
   "execution_count": 92,
   "id": "cultural-pride",
   "metadata": {},
   "outputs": [],
   "source": [
    "df = df[~df.apply(lambda x: same(x['text1'], x['text2']), axis=1)]"
   ]
  },
  {
   "cell_type": "code",
   "execution_count": 93,
   "id": "heated-parent",
   "metadata": {},
   "outputs": [
    {
     "data": {
      "text/plain": [
       "58813"
      ]
     },
     "execution_count": 93,
     "metadata": {},
     "output_type": "execute_result"
    }
   ],
   "source": [
    "len(df)"
   ]
  },
  {
   "cell_type": "code",
   "execution_count": 109,
   "id": "confirmed-colors",
   "metadata": {},
   "outputs": [],
   "source": [
    "ty = ('ты', 'тобой', 'тебе', 'тебя')\n",
    "vy = ('вы', 'вас', 'вами', 'вам')"
   ]
  },
  {
   "cell_type": "code",
   "execution_count": 112,
   "id": "municipal-hazard",
   "metadata": {},
   "outputs": [],
   "source": [
    "vyty_id = df[((df.text1.str.contains('|'.join(ty))) & (df.text2.str.contains('|'.join(vy)))) |\n",
    "   ((df.text1.str.contains('|'.join(vy))) & (df.text2.str.contains('|'.join(ty)))\n",
    "   \n",
    "   )].index"
   ]
  },
  {
   "cell_type": "code",
   "execution_count": 117,
   "id": "similar-paragraph",
   "metadata": {},
   "outputs": [],
   "source": [
    "df = df[~df.index.isin(vyty_id)]"
   ]
  },
  {
   "cell_type": "code",
   "execution_count": 119,
   "id": "arranged-convertible",
   "metadata": {},
   "outputs": [],
   "source": [
    "df.to_csv('data/clean/tapaco_clean.tsv', sep='\\t', index=False)"
   ]
  },
  {
   "cell_type": "code",
   "execution_count": 120,
   "id": "gross-pottery",
   "metadata": {},
   "outputs": [
    {
     "data": {
      "text/html": [
       "<div>\n",
       "<style scoped>\n",
       "    .dataframe tbody tr th:only-of-type {\n",
       "        vertical-align: middle;\n",
       "    }\n",
       "\n",
       "    .dataframe tbody tr th {\n",
       "        vertical-align: top;\n",
       "    }\n",
       "\n",
       "    .dataframe thead th {\n",
       "        text-align: right;\n",
       "    }\n",
       "</style>\n",
       "<table border=\"1\" class=\"dataframe\">\n",
       "  <thead>\n",
       "    <tr style=\"text-align: right;\">\n",
       "      <th></th>\n",
       "      <th>cluster_id</th>\n",
       "      <th>text1</th>\n",
       "      <th>text2</th>\n",
       "      <th>ent1</th>\n",
       "      <th>ent2</th>\n",
       "      <th>leven</th>\n",
       "    </tr>\n",
       "  </thead>\n",
       "  <tbody>\n",
       "    <tr>\n",
       "      <th>90</th>\n",
       "      <td>10</td>\n",
       "      <td>Говорите ли Вы по-английски?</td>\n",
       "      <td>Вы можете говорить по-английски?</td>\n",
       "      <td>0.944408</td>\n",
       "      <td>0.929248</td>\n",
       "      <td>0.666667</td>\n",
       "    </tr>\n",
       "    <tr>\n",
       "      <th>96</th>\n",
       "      <td>10</td>\n",
       "      <td>Говорите ли Вы по-английски?</td>\n",
       "      <td>Вы разговариваете на английском?</td>\n",
       "      <td>0.941382</td>\n",
       "      <td>0.930654</td>\n",
       "      <td>0.566667</td>\n",
       "    </tr>\n",
       "    <tr>\n",
       "      <th>115</th>\n",
       "      <td>10</td>\n",
       "      <td>Вы разве не говорите по-английски?</td>\n",
       "      <td>Вы можете говорить по-английски?</td>\n",
       "      <td>0.936903</td>\n",
       "      <td>0.764817</td>\n",
       "      <td>0.818182</td>\n",
       "    </tr>\n",
       "    <tr>\n",
       "      <th>121</th>\n",
       "      <td>10</td>\n",
       "      <td>Вы разве не говорите по-английски?</td>\n",
       "      <td>Вы разговариваете на английском?</td>\n",
       "      <td>0.934022</td>\n",
       "      <td>0.708513</td>\n",
       "      <td>0.606061</td>\n",
       "    </tr>\n",
       "    <tr>\n",
       "      <th>142</th>\n",
       "      <td>10</td>\n",
       "      <td>Вы можете говорить по-английски?</td>\n",
       "      <td>Вы разговариваете на английском?</td>\n",
       "      <td>0.929985</td>\n",
       "      <td>0.937610</td>\n",
       "      <td>0.562500</td>\n",
       "    </tr>\n",
       "    <tr>\n",
       "      <th>...</th>\n",
       "      <td>...</td>\n",
       "      <td>...</td>\n",
       "      <td>...</td>\n",
       "      <td>...</td>\n",
       "      <td>...</td>\n",
       "      <td>...</td>\n",
       "    </tr>\n",
       "    <tr>\n",
       "      <th>408732</th>\n",
       "      <td>9997</td>\n",
       "      <td>Я забыл свою кредитку дома.</td>\n",
       "      <td>Я оставил кредитную карточку дома.</td>\n",
       "      <td>0.956427</td>\n",
       "      <td>0.916173</td>\n",
       "      <td>0.622951</td>\n",
       "    </tr>\n",
       "    <tr>\n",
       "      <th>408734</th>\n",
       "      <td>9997</td>\n",
       "      <td>Я забыл свою кредитную карточку дома.</td>\n",
       "      <td>Я оставил дома свою кредитную карточку.</td>\n",
       "      <td>0.973596</td>\n",
       "      <td>0.946152</td>\n",
       "      <td>0.763158</td>\n",
       "    </tr>\n",
       "    <tr>\n",
       "      <th>408735</th>\n",
       "      <td>9997</td>\n",
       "      <td>Я забыл свою кредитную карточку дома.</td>\n",
       "      <td>Я оставил кредитную карточку дома.</td>\n",
       "      <td>0.938201</td>\n",
       "      <td>0.943098</td>\n",
       "      <td>0.816901</td>\n",
       "    </tr>\n",
       "    <tr>\n",
       "      <th>408738</th>\n",
       "      <td>9997</td>\n",
       "      <td>Я оставил дома свою кредитную карточку.</td>\n",
       "      <td>Я оставил кредитную карточку дома.</td>\n",
       "      <td>0.876875</td>\n",
       "      <td>0.949827</td>\n",
       "      <td>0.794521</td>\n",
       "    </tr>\n",
       "    <tr>\n",
       "      <th>408739</th>\n",
       "      <td>9998</td>\n",
       "      <td>У тебя есть кредитная карточка?</td>\n",
       "      <td>У тебя есть кредитка?</td>\n",
       "      <td>0.977508</td>\n",
       "      <td>0.951577</td>\n",
       "      <td>0.807692</td>\n",
       "    </tr>\n",
       "  </tbody>\n",
       "</table>\n",
       "<p>53492 rows × 6 columns</p>\n",
       "</div>"
      ],
      "text/plain": [
       "        cluster_id                                    text1  \\\n",
       "90              10             Говорите ли Вы по-английски?   \n",
       "96              10             Говорите ли Вы по-английски?   \n",
       "115             10       Вы разве не говорите по-английски?   \n",
       "121             10       Вы разве не говорите по-английски?   \n",
       "142             10         Вы можете говорить по-английски?   \n",
       "...            ...                                      ...   \n",
       "408732        9997              Я забыл свою кредитку дома.   \n",
       "408734        9997    Я забыл свою кредитную карточку дома.   \n",
       "408735        9997    Я забыл свою кредитную карточку дома.   \n",
       "408738        9997  Я оставил дома свою кредитную карточку.   \n",
       "408739        9998          У тебя есть кредитная карточка?   \n",
       "\n",
       "                                          text2      ent1      ent2     leven  \n",
       "90             Вы можете говорить по-английски?  0.944408  0.929248  0.666667  \n",
       "96             Вы разговариваете на английском?  0.941382  0.930654  0.566667  \n",
       "115            Вы можете говорить по-английски?  0.936903  0.764817  0.818182  \n",
       "121            Вы разговариваете на английском?  0.934022  0.708513  0.606061  \n",
       "142            Вы разговариваете на английском?  0.929985  0.937610  0.562500  \n",
       "...                                         ...       ...       ...       ...  \n",
       "408732       Я оставил кредитную карточку дома.  0.956427  0.916173  0.622951  \n",
       "408734  Я оставил дома свою кредитную карточку.  0.973596  0.946152  0.763158  \n",
       "408735       Я оставил кредитную карточку дома.  0.938201  0.943098  0.816901  \n",
       "408738       Я оставил кредитную карточку дома.  0.876875  0.949827  0.794521  \n",
       "408739                    У тебя есть кредитка?  0.977508  0.951577  0.807692  \n",
       "\n",
       "[53492 rows x 6 columns]"
      ]
     },
     "execution_count": 120,
     "metadata": {},
     "output_type": "execute_result"
    }
   ],
   "source": [
    "df"
   ]
  },
  {
   "cell_type": "code",
   "execution_count": 106,
   "id": "narrative-grain",
   "metadata": {},
   "outputs": [
    {
     "name": "stdout",
     "output_type": "stream",
     "text": [
      "Ад выстлан добрыми намерениями.\n",
      "Благими намерениями дорожка в ад вымощена.\n"
     ]
    }
   ],
   "source": [
    "a = df.sample(1).iloc[0]\n",
    "\n",
    "print(a['text1'])\n",
    "print(a['text2'])"
   ]
  },
  {
   "cell_type": "code",
   "execution_count": null,
   "id": "practical-montgomery",
   "metadata": {},
   "outputs": [],
   "source": []
  },
  {
   "cell_type": "code",
   "execution_count": null,
   "id": "italic-dylan",
   "metadata": {},
   "outputs": [],
   "source": []
  }
 ],
 "metadata": {
  "kernelspec": {
   "display_name": "Python 3",
   "language": "python",
   "name": "python3"
  },
  "language_info": {
   "codemirror_mode": {
    "name": "ipython",
    "version": 3
   },
   "file_extension": ".py",
   "mimetype": "text/x-python",
   "name": "python",
   "nbconvert_exporter": "python",
   "pygments_lexer": "ipython3",
   "version": "3.8.5"
  }
 },
 "nbformat": 4,
 "nbformat_minor": 5
}
